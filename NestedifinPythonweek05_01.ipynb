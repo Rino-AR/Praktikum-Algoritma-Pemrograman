{
  "nbformat": 4,
  "nbformat_minor": 0,
  "metadata": {
    "colab": {
      "provenance": [],
      "authorship_tag": "ABX9TyPFJ/g3+3Csjr1ygU+Fy+qE",
      "include_colab_link": true
    },
    "kernelspec": {
      "name": "python3",
      "display_name": "Python 3"
    },
    "language_info": {
      "name": "python"
    }
  },
  "cells": [
    {
      "cell_type": "markdown",
      "metadata": {
        "id": "view-in-github",
        "colab_type": "text"
      },
      "source": [
        "<a href=\"https://colab.research.google.com/github/Rino-AR/Praktikum-Algoritma-Pemrograman/blob/main/NestedifinPythonweek05_01.ipynb\" target=\"_parent\"><img src=\"https://colab.research.google.com/assets/colab-badge.svg\" alt=\"Open In Colab\"/></a>"
      ]
    },
    {
      "cell_type": "code",
      "execution_count": 2,
      "metadata": {
        "colab": {
          "base_uri": "https://localhost:8080/"
        },
        "id": "07Il6NgyFLOR",
        "outputId": "5aa10e29-680a-44eb-bda4-63d2a00959f4"
      },
      "outputs": [
        {
          "output_type": "stream",
          "name": "stdout",
          "text": [
            "The number is zero.\n"
          ]
        }
      ],
      "source": [
        "num = 0\n",
        "if num > 0:\n",
        "    print(\"The number is positive.\")\n",
        "else:\n",
        "  if num < 0:\n",
        "    print(\"The number is negative.\")\n",
        "  else:\n",
        "    print(\"The number is zero.\")\n"
      ]
    },
    {
      "cell_type": "markdown",
      "source": [
        "## **Weekly exercise 1**"
      ],
      "metadata": {
        "id": "HseJHiSqLqzZ"
      }
    },
    {
      "cell_type": "markdown",
      "source": [
        "# <h3 id=\"WeeklyExercise1\">Weekly Exercise 1</h3>\n",
        "\n",
        "Silahkan buat kode program untuk menunjukkan apakah angka yang diinputkan oleh user merupakan tahun kabisat atau tidak dengan ketentuan berikut ini :\n",
        "\n",
        "\n",
        "1.   User diminta memasukkan angka (tahun)\n",
        "2.   Program akan memproses angka yang dimasukkan kemudian akan dicek apakah tahun yang dimasukkan merupakan tahun kabisat atau bukan\n",
        "3. Program akan menampilkan angka yang dimasukkan oleh user disertai hasil pengecekan apakah merupakan tahun kabisat atau bukan tahun kabisat\n",
        "\n",
        "\n",
        "\n"
      ],
      "metadata": {
        "id": "3NFBRHVBcgCo"
      }
    },
    {
      "cell_type": "code",
      "source": [
        "tahun = int(input(\"Masukkan tahun: \"))\n",
        "\n",
        "if (tahun % 4) == 0:\n",
        " if (tahun % 100) == 0:\n",
        "  if (tahun % 400) == 0:\n",
        "   print(tahun,\"adalah tahun kabisat\")\n",
        "  else:\n",
        "   print(tahun,\"bukan tahun kabisat\")\n",
        " else:\n",
        "  print(tahun,\"adalah tahun kabisat\")\n",
        "else:\n",
        " print(tahun,\"bukan tahun kabisat\")"
      ],
      "metadata": {
        "colab": {
          "base_uri": "https://localhost:8080/"
        },
        "id": "H74ZwNRQLgoh",
        "outputId": "68f6f479-3db5-4078-9cfc-0a78f49a4023"
      },
      "execution_count": 9,
      "outputs": [
        {
          "output_type": "stream",
          "name": "stdout",
          "text": [
            "Masukkan tahun: 2000\n",
            "2000 adalah tahun kabisat\n"
          ]
        }
      ]
    },
    {
      "cell_type": "markdown",
      "source": [
        "# **Weekly exercise 2**"
      ],
      "metadata": {
        "id": "w1XDZHMwMBOY"
      }
    },
    {
      "cell_type": "markdown",
      "source": [
        "# <h3 id=\"WeeklyExercise2\">Weekly Exercise 2</h3>\n",
        "\n",
        "Silahkan buat kode program untuk menunjukkan angka terbesar berdasarkan 3 angka yang di inputkan oleh user dengan ketentuan berikut ini :\n",
        "\n",
        "\n",
        "1.   User diminta memasukkan angka pertama\n",
        "2.   User diminta memasukkan angka kedua\n",
        "3. User diminta memasukkan angka ketiga\n",
        "4. Program akan mengecek di antara ketiga angka yang dimasukkan, angka manakah yang nilai nya paling besar\n",
        "5. Program akan menampilkan angka pertama, angka kedua, angka ketiga, serta menampilkan pernyataan manakah angka yang paling besar di antara ketiga angka yang dimasukkan\n",
        "\n"
      ],
      "metadata": {
        "id": "FIGKYYW2ckVl"
      }
    },
    {
      "cell_type": "code",
      "source": [
        "angka1 = int(input('Masukkan angka A:'))\n",
        "angka2 = int(input('Masukkan angka B:'))\n",
        "angka3 = int(input('Masukkan angka C:'))\n",
        "\n",
        "if angka1 > angka2 and angka1 > angka3:\n",
        "  print(angka1, 'adalah angka terbesar')\n",
        "elif angka2 > angka1 and angka2 > angka3:\n",
        "  print(angka2, 'adalah angka terbesar')\n",
        "else:\n",
        "  print(angka3, 'adalah angka terbesar')"
      ],
      "metadata": {
        "colab": {
          "base_uri": "https://localhost:8080/"
        },
        "id": "HksyxQPVL74r",
        "outputId": "e284d2d2-8d72-4098-9386-5402b154aa02"
      },
      "execution_count": 16,
      "outputs": [
        {
          "output_type": "stream",
          "name": "stdout",
          "text": [
            "Masukkan angka A:80\n",
            "Masukkan angka B:20\n",
            "Masukkan angka C:50\n",
            "80 adalah angka terbesar\n"
          ]
        }
      ]
    },
    {
      "cell_type": "markdown",
      "source": [
        "# **Weekly exercise 3**"
      ],
      "metadata": {
        "id": "5Ydu3JlkON7Y"
      }
    },
    {
      "cell_type": "markdown",
      "source": [
        "# <h3 id=\"WeeklyExercise3\">Weekly Exercise 3</h3>\n",
        "\n",
        "Buatlah kode program untuk menghitung jumlah yang harus dibayarkan konsumen pusat perbelanjaan dengan ketentuan sebagai berikut :\n",
        "\n",
        "1.   Terdapat 2 jenis konsumen, yaitu member dan non member\n",
        "2.   Apabila total belanja lebih dari 100.000 maka berhak mendapatkan diskon 3 persen\n",
        "3. Apabila total belanja lebih dari 200.000 maka berhak mendapatkan diskon 4 persen\n",
        "4. Setiap pembelian yang dilakukan oleh member mendapatkan tambahan diskon 2 persen\n",
        "\n"
      ],
      "metadata": {
        "id": "-8QRiVffcoD9"
      }
    },
    {
      "cell_type": "code",
      "source": [
        "total_belanja = float(input('Masukkan total belanja: '))\n",
        "konsumen = input('Apakah Anda member? (YA / TIDAK) :')\n",
        "\n",
        "if konsumen == 'YA':\n",
        "  if (total_belanja >= 100000) and (total_belanja < 200000):\n",
        "    diskon = total_belanja * 0.5\n",
        "    print('Total  akhir belanja: RP',diskon)\n",
        "  elif total_belanja > 200000:\n",
        "    diskon = total_belanja * 0.6\n",
        "    print('Total  akhir belanja:',diskon)\n",
        "else :\n",
        "  if konsumen == 'TIDAK':\n",
        "   if (total_belanja >= 100000) and (total_belanja < 200000):\n",
        "    diskon = total_belanja * 0.3\n",
        "    print('Total  akhir belanja: RP',diskon)\n",
        "   else :\n",
        "    diskon = total_belanja * 0.4\n",
        "    print('Total  akhir belanja:',diskon)\n"
      ],
      "metadata": {
        "colab": {
          "base_uri": "https://localhost:8080/"
        },
        "id": "7JaKoBm9T8RS",
        "outputId": "62025d61-a329-48d8-89df-e249cf7d4b74"
      },
      "execution_count": 40,
      "outputs": [
        {
          "output_type": "stream",
          "name": "stdout",
          "text": [
            "Masukkan total belanja: 500000\n",
            "Apakah Anda member? (YA / TIDAK) :TIDAK\n",
            "Total  akhir belanja: 200000.0\n"
          ]
        }
      ]
    },
    {
      "cell_type": "markdown",
      "source": [
        "# **Weekly exercise 4**"
      ],
      "metadata": {
        "id": "tcyApbrfaqbv"
      }
    },
    {
      "cell_type": "markdown",
      "source": [
        "## <h3 id=\"WeeklyExercise4\">Weekly Exercise 4</h3>\n",
        "\n",
        "Buatlah kode program untuk membuat user baru pada sebuah sistem, dengan ketentuan sebagai berikut:\n",
        "\n",
        "\n",
        "1.   User perlu memasukkan username, email, dan password\n",
        "2.   User baru hanya akan sukses dibuat apabila:\n",
        "      *   username tidak boleh kosong\n",
        "      *   terdapat \"@\" pada alamat email\n",
        "      *   panjang password lebih dari 8 karakter\n",
        "\n",
        "\n",
        "\n",
        "\n",
        "\n",
        "\n"
      ],
      "metadata": {
        "id": "Ut4NuV6dcrEG"
      }
    },
    {
      "cell_type": "code",
      "source": [
        "username = input('Masukkan username: ')\n",
        "email = input('Masukkan email: ')\n",
        "password = input('Masukkan password: ')\n",
        "\n",
        "if username == '':\n",
        "  print('Username tidak boleh kosong')\n",
        "elif '@' not in email:\n",
        "  print('Alamat email tidak valid')\n",
        "elif len(password) < 8:\n",
        "  print('Password harus lebih dari 8 karakter')\n",
        "else:\n",
        "    print('User berhasil dibuat')"
      ],
      "metadata": {
        "colab": {
          "base_uri": "https://localhost:8080/"
        },
        "id": "o6W2I55iaxtX",
        "outputId": "46703541-8a48-4194-e5e2-27b15ae58cbe"
      },
      "execution_count": 44,
      "outputs": [
        {
          "output_type": "stream",
          "name": "stdout",
          "text": [
            "Masukkan username: EMPEROR\n",
            "Masukkan email: EMPEROR@gmail.com\n",
            "Masukkan password: glory888123\n",
            "User berhasil dibuat\n"
          ]
        }
      ]
    }
  ]
}