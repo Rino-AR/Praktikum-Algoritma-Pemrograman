{
  "nbformat": 4,
  "nbformat_minor": 0,
  "metadata": {
    "colab": {
      "provenance": [],
      "authorship_tag": "ABX9TyMt8I3H7oFmRqapQYgo5/ZS",
      "include_colab_link": true
    },
    "kernelspec": {
      "name": "python3",
      "display_name": "Python 3"
    },
    "language_info": {
      "name": "python"
    }
  },
  "cells": [
    {
      "cell_type": "markdown",
      "metadata": {
        "id": "view-in-github",
        "colab_type": "text"
      },
      "source": [
        "<a href=\"https://colab.research.google.com/github/Rino-AR/Praktikum-Algoritma-Pemrograman/blob/main/Week6_LoopsinPython.ipynb\" target=\"_parent\"><img src=\"https://colab.research.google.com/assets/colab-badge.svg\" alt=\"Open In Colab\"/></a>"
      ]
    },
    {
      "cell_type": "markdown",
      "source": [
        "## <h3 id=\"WeeklyExercise1\">Weekly Exercise 1</h3>\n",
        "\n",
        "Buatlah kode program untuk dapat menampilkan sebagai berikut :\n",
        "\n",
        "<pre>\n",
        "     *\n",
        "    * *\n",
        "   * * *\n",
        "  * * * *\n",
        " * * * * *\n",
        "* * * * * *\n",
        "</pre>\n",
        "\n",
        "Jumlah baris pada gambar di atas berdasarkan angka yang dimasukkan oleh user.\n",
        "\n",
        "<br>\n",
        "Sebagai contoh, apabila user memasukkan angka 2, maka tampilan menjadi:\n",
        "<pre>\n",
        " *\n",
        "* *\n",
        "</pre>\n",
        "\n",
        "<br>\n",
        "Apabila user memasukkan angka 3, maka tampilan menjadi:\n",
        "<pre>\n",
        "  *\n",
        " * *\n",
        "* * *\n",
        "</pre>\n"
      ],
      "metadata": {
        "id": "FZ5cfTBeQriN"
      }
    },
    {
      "cell_type": "code",
      "source": [
        "N = int(input(\"Enter a number: \"))\n",
        "for i in range(1, N+1):\n",
        "  print(\" \" * (N - i), end=\"\")\n",
        "  print(\"* \" * i)"
      ],
      "metadata": {
        "colab": {
          "base_uri": "https://localhost:8080/"
        },
        "id": "HpcrGcIIO_j8",
        "outputId": "c8cf8785-e38b-4922-aa44-e1316fd3d5b5"
      },
      "execution_count": 11,
      "outputs": [
        {
          "output_type": "stream",
          "name": "stdout",
          "text": [
            "Enter a number: 5\n",
            "    * \n",
            "   * * \n",
            "  * * * \n",
            " * * * * \n",
            "* * * * * \n"
          ]
        }
      ]
    },
    {
      "cell_type": "markdown",
      "source": [
        "## <h3 id=\"WeeklyExercise2\">Weekly Exercise 2</h3>\n",
        "\n",
        "Buatlah kode program untuk dapat menampilkan segitiga pascal sebagai berikut :\n",
        "\n",
        "<pre>\n",
        "     1\n",
        "    1 1\n",
        "   1 2 1\n",
        "  1 3 3 1\n",
        " 1 4 6 4 1\n",
        "</pre>\n",
        "\n",
        "Jumlah baris pada gambar di atas berdasarkan angka yang dimasukkan oleh user.\n",
        "\n",
        "<br>\n",
        "Sebagai contoh, apabila user memasukkan angka 2, maka tampilan menjadi:\n",
        "<pre>\n",
        " 1\n",
        "1 1\n",
        "</pre>\n",
        "\n",
        "<br>\n",
        "Apabila user memasukkan angka 3, maka tampilan menjadi:\n",
        "<pre>\n",
        "  1\n",
        " 1 1\n",
        "1 2 1\n",
        "</pre>"
      ],
      "metadata": {
        "id": "DJyuU5axQz-U"
      }
    },
    {
      "cell_type": "code",
      "source": [
        "n = int(input(\"Enter a number: \"))\n",
        "\n",
        "for i in range(1, n+1):\n",
        "    for j in range(0, n-i+1):\n",
        "        print(' ', end='')\n",
        "\n",
        "    K = 1\n",
        "    for j in range(1, i+1):\n",
        "\n",
        "        print(' ', K, sep='', end='')\n",
        "\n",
        "        K = K * (i - j) // j\n",
        "    print()\n"
      ],
      "metadata": {
        "colab": {
          "base_uri": "https://localhost:8080/"
        },
        "id": "4MDYAMzTPJkQ",
        "outputId": "7ff521a9-9ca7-4daa-a238-38d8702044fd"
      },
      "execution_count": 15,
      "outputs": [
        {
          "output_type": "stream",
          "name": "stdout",
          "text": [
            "Enter a number: 5\n",
            "      1\n",
            "     1 1\n",
            "    1 2 1\n",
            "   1 3 3 1\n",
            "  1 4 6 4 1\n"
          ]
        }
      ]
    },
    {
      "cell_type": "markdown",
      "source": [
        "## <h3 id=\"WeeklyExercise3\">Weekly Exercise 3</h3>\n",
        "\n",
        "Buatlah kode program untuk dapat menampilkan jumlah angka dalam satu baris segitiga pascal.\n",
        "\n",
        "Sebagai contoh, apabila user memasukkan angka 2, maka angka dalam satu baris segitiga pascal adalah:\n",
        "<pre>\n",
        "1 1\n",
        "</pre>\n",
        "\n",
        "Sehingga perlu menjumlahkan 1 + 1, maka output dari program adalah 2\n",
        "\n",
        "\n",
        "Apabila user memasukkan angka 3, maka angka dalam satu baris segitiga pascal adalah:\n",
        "<pre>\n",
        "1 2 1\n",
        "</pre>\n",
        "Sehingga perlu menjumlahkan 1 + 2 + 1, maka output dari program adalah 4\n"
      ],
      "metadata": {
        "id": "8Em0CVznWhlj"
      }
    },
    {
      "cell_type": "code",
      "source": [
        "n = int(input(\"Enter a number: \"))\n",
        "\n",
        "for i in range(1, n+1):\n",
        "    for j in range(0, n-i+1):\n",
        "        print(' ', end='')\n",
        "\n",
        "    K = 1\n",
        "    B = 1\n",
        "    for j in range(1, i+1):\n",
        "        print(' ', K, sep='', end='')\n",
        "        K = K * (i - j) // j\n",
        "        B += K\n",
        "        if j != i:\n",
        "            print(end='')\n",
        "    print(' =', B)\n",
        "\n",
        ""
      ],
      "metadata": {
        "colab": {
          "base_uri": "https://localhost:8080/"
        },
        "id": "57Ie2xxJWi_j",
        "outputId": "f8aaab3b-4a3f-4d28-d473-629c920c04e1"
      },
      "execution_count": 21,
      "outputs": [
        {
          "output_type": "stream",
          "name": "stdout",
          "text": [
            "Enter a number: 5\n",
            "      1 = 1\n",
            "     1 1 = 2\n",
            "    1 2 1 = 4\n",
            "   1 3 3 1 = 8\n",
            "  1 4 6 4 1 = 16\n"
          ]
        }
      ]
    }
  ]
}