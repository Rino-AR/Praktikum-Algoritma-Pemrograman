{
  "nbformat": 4,
  "nbformat_minor": 0,
  "metadata": {
    "colab": {
      "provenance": [],
      "authorship_tag": "ABX9TyNxCHTqMAWuA2wSXvmMmFGh",
      "include_colab_link": true
    },
    "kernelspec": {
      "name": "python3",
      "display_name": "Python 3"
    },
    "language_info": {
      "name": "python"
    }
  },
  "cells": [
    {
      "cell_type": "markdown",
      "metadata": {
        "id": "view-in-github",
        "colab_type": "text"
      },
      "source": [
        "<a href=\"https://colab.research.google.com/github/Rino-AR/Praktikum-Algoritma-Pemrograman/blob/main/Week09_PythonCollection.ipynb\" target=\"_parent\"><img src=\"https://colab.research.google.com/assets/colab-badge.svg\" alt=\"Open In Colab\"/></a>"
      ]
    },
    {
      "cell_type": "code",
      "execution_count": null,
      "metadata": {
        "colab": {
          "base_uri": "https://localhost:8080/"
        },
        "id": "RLuxhUpCQ1Oa",
        "outputId": "95ba703c-7851-4015-a5bf-f17b8d9005fd"
      },
      "outputs": [
        {
          "output_type": "stream",
          "name": "stdout",
          "text": [
            "['apple', 'banana', 'cherry', 'apple', 'cherry', 'Ball', 'Grass', 'yan']\n",
            "8\n",
            "<class 'list'>\n",
            "['cherry', 'apple', 'cherry']\n",
            "['cherry', 'Ball', 'Grass']\n",
            "Yes, 'apple' is in the fruits list\n",
            "cherry\n",
            "[1, 2, 3, 'a', 'b', 'c']\n",
            "['a', 'b', 'c', 1, 2, 3]\n",
            "['a', 'b', 'c', 1, 2, 3]\n"
          ]
        }
      ],
      "source": [
        "thislist = [\"apple\", \"banana\", \"cherry\", \"apple\", \"cherry\", \"Ball\", \"Grass\", \"yan\"]\n",
        "print(thislist)\n",
        "print(len(thislist))\n",
        "print(type(thislist))\n",
        "print(thislist[2:5])\n",
        "print(thislist[-4:-1])\n",
        "if \"apple\" in thislist:\n",
        "  print(\"Yes, 'apple' is in the fruits list\")\n",
        "\n",
        "thislist = list((\"apple\", \"banana\", \"cherry\")) # note the double round-brackets\n",
        "print(thislist[-1])\n",
        "\n",
        "#Join two list:\n",
        "list1 = [\"a\", \"b\", \"c\"]\n",
        "list2 = [1, 2, 3]\n",
        "\n",
        "list3 = list2 + list1\n",
        "print(list3)\n",
        "\n",
        "#Append list2 into list1:\n",
        "list1 = [\"a\", \"b\" , \"c\"]\n",
        "list2 = [1, 2, 3]\n",
        "\n",
        "for x in list2:\n",
        "  list1.append(x)\n",
        "\n",
        "print(list1)\n",
        "#Use the extend() method to add list2 at the end of list1:\n",
        "list1 = [\"a\", \"b\" , \"c\"]\n",
        "list2 = [1, 2, 3]\n",
        "\n",
        "list1.extend(list2)\n",
        "print(list1)"
      ]
    },
    {
      "cell_type": "code",
      "source": [
        "thistuple = (\"apple\", \"banana\", \"cherry\", \"apple\", \"cherry\", False, True, 4, 6, 8 )\n",
        "print(thistuple)\n",
        "print(len(thistuple))\n",
        "print(type(thistuple))\n",
        "print(thistuple[2:5])\n",
        "print(thistuple[-4:-1])\n",
        "\n",
        "thisset = {\"apple\", \"banana\", \"cherry\", True, 46, 78}\n",
        "print(thisset)\n",
        "print(len(thisset))\n",
        "print(type(thisset))\n",
        "\n",
        "thisdict = {\n",
        "  \"brand\": \"Ford\",\n",
        "  \"model\": \"Mustang\",\n",
        "  \"year\": 1964\n",
        "}\n",
        "print(thisdict[\"brand\"])\n",
        "print(len(thisdict))\n",
        "print(type(thisdict))\n",
        "\n",
        "thisdict = dict(name = \"John\", age = 36, country = \"Norway\")\n",
        "print(thisdict)\n",
        "print(len(thisdict))\n",
        "print(type(thisdict))"
      ],
      "metadata": {
        "id": "sD2Iu4EQb4X3",
        "colab": {
          "base_uri": "https://localhost:8080/"
        },
        "outputId": "01fd9418-c9e7-42e5-b3b7-461a75911b9a"
      },
      "execution_count": 13,
      "outputs": [
        {
          "output_type": "stream",
          "name": "stdout",
          "text": [
            "('apple', 'banana', 'cherry', 'apple', 'cherry', False, True, 4, 6, 8)\n",
            "10\n",
            "<class 'tuple'>\n",
            "('cherry', 'apple', 'cherry')\n",
            "(True, 4, 6)\n",
            "{True, 'apple', 'cherry', 'banana', 78, 46}\n",
            "6\n",
            "<class 'set'>\n",
            "Ford\n",
            "3\n",
            "<class 'dict'>\n",
            "{'name': 'John', 'age': 36, 'country': 'Norway'}\n",
            "3\n",
            "<class 'dict'>\n"
          ]
        }
      ]
    },
    {
      "cell_type": "markdown",
      "source": [
        "## <h3 id=\"WeeklyExercise1\">Weekly Exercise 1</h3>\n",
        "Sebutkan dan jelaskan perbedaan dari list, tuple, set dan dictionary dalam python"
      ],
      "metadata": {
        "id": "N0JqwJ95UdSG"
      }
    },
    {
      "cell_type": "markdown",
      "source": [
        "\n",
        "\n",
        "1.   List merupakan tipe data yang mana berurutan, dapat diubah, dan dapat berisi duplikat(item dengan value yang sama). Tipe data list diawali dengan tanda kurung siku buka ( [ ) dan ditutup dengan kurung siku tutup ( ] ). Setiap elemen dalam list dipisahkan dengan koma ( , ). List dapat berisi tipe data string, numeric, dan juga boolean.\n",
        "\n",
        "\n"
      ],
      "metadata": {
        "id": "DGsmAig1UpJV"
      }
    },
    {
      "cell_type": "markdown",
      "metadata": {
        "id": "GCEGkOO8jf5w"
      },
      "source": [
        "## <h3 id=\"WeeklyExercise1\">Weekly Exercise 2</h3>\n",
        "- Buatlah dan tentukan tipe collection untuk mengelola data kalian dengan rincian di bawah :<br/>\n",
        "    Nama : nama mahasiswa <br/>\n",
        "    Kelas : kelas mahasiswa <br/>\n",
        "    Tanggal Lahir : tanggal lahir mahasiswa <br/>\n",
        "    no hp : no hp mahasiswa <br/>\n",
        "    alamat : alamat mahasiswa <br/>\n",
        "    Hobi : <br/>\n",
        "    1. Hobi 1 <br/>\n",
        "    2. Hobi 2 <br/>\n",
        "    3. dst <br/>\n",
        "- Tampilkan seluruh data dengan teknik perulangan"
      ]
    },
    {
      "cell_type": "code",
      "source": [
        "biodata = {\n",
        "    \"Nama\\t\\t\": \"Rino Ahmad Raga\",\n",
        "    \"Kelas\\t\\t\": \"Rombel 2\",\n",
        "    \"Tanggal Lahir\\t\": \"14 - O4 - 2006\",\n",
        "    \"no hp\\t\\t\": \"1234567890\",\n",
        "    \"alamat\\t\\t\": \"Salaman\",\n",
        "    \"Hobi\": [\"1. Hobi 1 : Baca LN\", \"2. Hobi 2 : Main vidio game\"]\n",
        "}\n",
        "\n",
        "for key, value in biodata.items():\n",
        "  if isinstance(value, list):\n",
        "    for item in value:\n",
        "      print(key, item)\n",
        "  else:\n",
        "    print(key, value)"
      ],
      "metadata": {
        "id": "nwkWE861UnYO",
        "colab": {
          "base_uri": "https://localhost:8080/"
        },
        "outputId": "9eb3b7c1-7740-42f3-e1e3-b2d89c2c9b26"
      },
      "execution_count": 1,
      "outputs": [
        {
          "output_type": "stream",
          "name": "stdout",
          "text": [
            "Nama\t\t Rino Ahmad Raga\n",
            "Kelas\t\t Rombel 2\n",
            "Tanggal Lahir\t 14 - O4 - 2006\n",
            "no hp\t\t 1234567890\n",
            "alamat\t\t Salaman\n",
            "Hobi 1. Hobi 1 : Baca LN\n",
            "Hobi 2. Hobi 2 : Main vidio game\n"
          ]
        }
      ]
    }
  ]
}