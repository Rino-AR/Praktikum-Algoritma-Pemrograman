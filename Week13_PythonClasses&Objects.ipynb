{
  "nbformat": 4,
  "nbformat_minor": 0,
  "metadata": {
    "colab": {
      "provenance": [],
      "authorship_tag": "ABX9TyOW4FzRoPOmdUfnvt9Jiwc7",
      "include_colab_link": true
    },
    "kernelspec": {
      "name": "python3",
      "display_name": "Python 3"
    },
    "language_info": {
      "name": "python"
    }
  },
  "cells": [
    {
      "cell_type": "markdown",
      "metadata": {
        "id": "view-in-github",
        "colab_type": "text"
      },
      "source": [
        "<a href=\"https://colab.research.google.com/github/Rino-AR/Praktikum-Algoritma-Pemrograman/blob/main/Week13_PythonClasses%26Objects.ipynb\" target=\"_parent\"><img src=\"https://colab.research.google.com/assets/colab-badge.svg\" alt=\"Open In Colab\"/></a>"
      ]
    },
    {
      "cell_type": "code",
      "execution_count": null,
      "metadata": {
        "colab": {
          "base_uri": "https://localhost:8080/"
        },
        "id": "wfojaxR-edAj",
        "outputId": "474c04d5-95b8-4e78-d8f1-93182ebf417b"
      },
      "outputs": [
        {
          "output_type": "stream",
          "name": "stdout",
          "text": [
            "5\n"
          ]
        }
      ],
      "source": [
        "class MyClass:\n",
        "  x = 5\n",
        "\n",
        "p1 = MyClass()\n",
        "print(p1.x)"
      ]
    },
    {
      "cell_type": "code",
      "source": [
        "class Person:\n",
        "  def __init__(self, name, age):\n",
        "    self.name = name\n",
        "    self.age = age\n",
        "\n",
        "p1 = Person(\"Iwan\", 16)\n",
        "\n",
        "print(p1.name)\n",
        "print(p1.age)"
      ],
      "metadata": {
        "colab": {
          "base_uri": "https://localhost:8080/"
        },
        "id": "AlYSvv-HgYLW",
        "outputId": "7943ab91-343a-4c4b-cf2b-0c9f4eb9846f"
      },
      "execution_count": null,
      "outputs": [
        {
          "output_type": "stream",
          "name": "stdout",
          "text": [
            "Iwan\n",
            "16\n"
          ]
        }
      ]
    },
    {
      "cell_type": "code",
      "source": [
        "class Person:\n",
        "  def __init__(self, name, age):\n",
        "    self.name = name\n",
        "    self.age = age\n",
        "\n",
        "p1 = Person(\"John\", 36)\n",
        "\n",
        "print(p1.name)\n",
        "print(p1.age)\n",
        "\n",
        "type = type(p1)\n",
        "print(type)"
      ],
      "metadata": {
        "colab": {
          "base_uri": "https://localhost:8080/"
        },
        "id": "zsT-oxvzgZUu",
        "outputId": "8c7073b1-cada-4d5c-dec7-d988208e2ddd"
      },
      "execution_count": null,
      "outputs": [
        {
          "output_type": "stream",
          "name": "stdout",
          "text": [
            "John\n",
            "36\n",
            "<class '__main__.Person'>\n"
          ]
        }
      ]
    },
    {
      "cell_type": "markdown",
      "source": [
        "## <h3 id=\"WeeklyExercise1\">Weekly Exercise 1</h3>\n",
        "Seorang penjual alat tulis menjual 10 bolpoint, 10 pensil dan 10 penghapus. 1 biji bolpoint\n",
        "harganya Rp. 2000, 1 biji pensil harganya Rp. 1.000 dan 1 penghapus harganya Rp. 500.\n",
        "\n",
        "\n",
        "Gunakanlah objek untuk menyelesaikan soal dibawah ini!\n",
        "<li>Buatlah method untuk memasukkan (setter) nama, stok, harga satuan, dan harga (stok x harga satuan) alat tulis tersebut!</li>\n",
        "<li>Buatlah method untuk menampilkan (getter) nama, stok, harga satuan, dan harga (stok x harga satuan) alat tulis tersebut!</li>\n",
        "<li>Buatlah method Total Harga (setter getter) untuk mengelola transaksi penjualan!</li>"
      ],
      "metadata": {
        "id": "L5CFn2_QQQeZ"
      }
    },
    {
      "cell_type": "code",
      "source": [
        "class ATK:\n",
        "  def __init__(self, nama, stok, harga_satuan):\n",
        "    self.nama = nama\n",
        "    self.stok = stok\n",
        "    self.harga_satuan = harga_satuan\n",
        "    self.harga = stok * harga_satuan\n",
        "\n",
        "  def set_nama(self, nama):\n",
        "    self.nama = nama\n",
        "\n",
        "  def set_stok(self, stok):\n",
        "    self.stok = stok\n",
        "\n",
        "  def set_harga_satuan(self, harga_satuan):\n",
        "    self.harga_satuan = harga_satuan\n",
        "\n",
        "  def set_harga(self, harga):\n",
        "    self.harga = stok * harga_satuan\n",
        "\n",
        "\n",
        "  def get_nama(self):\n",
        "    return self.nama\n",
        "\n",
        "  def get_stok(self):\n",
        "    return self.stok\n",
        "\n",
        "  def get_harga_satuan(self):\n",
        "    return self.harga_satuan\n",
        "\n",
        "  def get_harga(self):\n",
        "    return self.harga\n",
        "\n",
        "Bolpoint = ATK(\"Bolpoint\", 10, 2000)\n",
        "Pensil = ATK(\"Pensil\", 10, 1000)\n",
        "Penghapus = ATK(\"Penghapus\", 10, 500)\n",
        "\n",
        "print(f\"nama : {Bolpoint.get_nama()}\\nstok : {Bolpoint.get_stok()}\\nharga satuan : {Bolpoint.get_harga_satuan()}\\nharga total : {Bolpoint.get_harga()}\")\n",
        "print(\"\\n\")\n",
        "print(f\"nama : {Pensil.get_nama()}\\nstok : {Pensil.get_stok()}\\nharga satuan : {Pensil.get_harga_satuan()}\\nharga total : {Pensil.get_harga()}\")\n",
        "print(\"\\n\")\n",
        "print(f\"nama : {Penghapus.get_nama()}\\nstok : {Penghapus.get_stok()}\\nharga satuan : {Penghapus.get_harga_satuan()}\\nharga total : {Penghapus.get_harga()}\")\n",
        "\n",
        "Total_Harga = Bolpoint.get_harga() + Pensil.get_harga() + Penghapus.get_harga()\n",
        "print(\"\\n\")\n",
        "print(f\"Total Harga : {Total_Harga}\")"
      ],
      "metadata": {
        "colab": {
          "base_uri": "https://localhost:8080/"
        },
        "id": "QehHsM457vZ6",
        "outputId": "306f0729-e97a-4898-baad-989ded030325"
      },
      "execution_count": null,
      "outputs": [
        {
          "output_type": "stream",
          "name": "stdout",
          "text": [
            "nama : Bolpoint\n",
            "stok : 10\n",
            "harga satuan : 2000\n",
            "harga total : 20000\n",
            "\n",
            "\n",
            "nama : Pensil\n",
            "stok : 10\n",
            "harga satuan : 1000\n",
            "harga total : 10000\n",
            "\n",
            "\n",
            "nama : Penghapus\n",
            "stok : 10\n",
            "harga satuan : 500\n",
            "harga total : 5000\n",
            "\n",
            "\n",
            "Total Harga : 35000\n"
          ]
        }
      ]
    }
  ]
}