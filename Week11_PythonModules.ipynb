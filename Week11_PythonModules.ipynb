{
  "nbformat": 4,
  "nbformat_minor": 0,
  "metadata": {
    "colab": {
      "provenance": [],
      "authorship_tag": "ABX9TyPFmuTrHB2y5ziL0vX/o5uO",
      "include_colab_link": true
    },
    "kernelspec": {
      "name": "python3",
      "display_name": "Python 3"
    },
    "language_info": {
      "name": "python"
    }
  },
  "cells": [
    {
      "cell_type": "markdown",
      "metadata": {
        "id": "view-in-github",
        "colab_type": "text"
      },
      "source": [
        "<a href=\"https://colab.research.google.com/github/Rino-AR/Praktikum-Algoritma-Pemrograman/blob/main/Week11_PythonModules.ipynb\" target=\"_parent\"><img src=\"https://colab.research.google.com/assets/colab-badge.svg\" alt=\"Open In Colab\"/></a>"
      ]
    },
    {
      "cell_type": "markdown",
      "source": [
        "## <h3 id=\"WeeklyExercise1\">Weekly Exercise 1</h3>\n",
        "Buatlah sebuah module dengan nama matematika.py lalu isikan dengan :\n",
        "\n",
        "<li>Konstanta Pi</li>\n",
        "<li>fungsi menghitung luas lingkaran</li>\n",
        "</li>fungsi menghitung luas persegi</li>\n",
        "</li>fungsi menghitung luas persegi</li>\n",
        "\n",
        "lalu buatlah kode program untu mengimport modul tersebut untuk menghitung masing-masing luas bangun."
      ],
      "metadata": {
        "id": "DSFfAiVJmzGZ"
      }
    },
    {
      "cell_type": "code",
      "execution_count": 1,
      "metadata": {
        "id": "8_i6Lp_NmCYg"
      },
      "outputs": [],
      "source": [
        "import math\n",
        "\n",
        "def luas_lingkaran():\n",
        "    r = float(input(\"Masukkan jari-jari lingkaran: \"))\n",
        "    return math.pi * r**2\n",
        "\n",
        "def luas_persegi():\n",
        "    s = float(input(\"Masukkan sisi persegi: \"))\n",
        "    return s**2\n",
        "\n",
        "def luas_persegi_panjang():\n",
        "    p = float(input(\"Masukkan panjang persegi panjang: \"))\n",
        "    l = float(input(\"Masukkan lebar persegi panjang: \"))\n",
        "    return p * l"
      ]
    },
    {
      "cell_type": "code",
      "source": [
        "import matematika\n",
        "\n",
        "print(matematika.luas_lingkaran())\n",
        "print(matematika.luas_persegi())\n",
        "print(matematika.luas_persegi_panjang())"
      ],
      "metadata": {
        "colab": {
          "base_uri": "https://localhost:8080/"
        },
        "id": "QlEkDkS8mX1I",
        "outputId": "32d2423e-78fd-48ed-bece-85cd10fb21b5"
      },
      "execution_count": 2,
      "outputs": [
        {
          "output_type": "stream",
          "name": "stdout",
          "text": [
            "Masukkan jari-jari lingkaran: 7\n",
            "153.93804002589985\n",
            "Masukkan sisi persegi: 5\n",
            "25.0\n",
            "Masukkan panjang persegi panjang: 8\n",
            "Masukkan lebar persegi panjang: 4\n",
            "32.0\n"
          ]
        }
      ]
    },
    {
      "cell_type": "markdown",
      "source": [
        "## <h3 id=\"WeeklyExercise1\">Weekly Exercise 2</h3>\n",
        "Manfaatkan built-in module math pada python lalu cobalah menggunakan minimal 5 fungsi yang ada pada module tersebut!"
      ],
      "metadata": {
        "id": "V8w-zMT0n6Q5"
      }
    },
    {
      "cell_type": "code",
      "source": [
        "import math\n",
        "# pi\n",
        "r = float(input(\"Masukkan jari-jari lingkaran: \"))\n",
        "print(math.pi * r**2)\n",
        "\n",
        "# sqrt = akar kuadrat\n",
        "g = float(input('masukkan angka untuk di akar kuadrat: '))\n",
        "print(math.sqrt(g))\n",
        "\n",
        "# log = logaritma\n",
        "p = float(input('masukkan angka untuk log: '))\n",
        "print(math.log(p))\n",
        "\n",
        "# sin\n",
        "x = float(input('masukkan angka untuk di sin: '))\n",
        "print(math.sin(x))\n",
        "\n",
        "# cos\n",
        "y = float(input('masukkan angka untuk di cos: '))\n",
        "print(math.cos(y))\n",
        "\n",
        "# tan\n",
        "z = float(input('masukkan angka untuk di tan: '))\n",
        "print(math.tan(z))\n",
        "\n",
        "# fsum = mengembalikan jumlah semua item (a+b+c)\n",
        "a = float(input('Masukkan angka a:'))\n",
        "b = float(input('Masukkan angka b:'))\n",
        "c = float(input('Masukkan angka c:'))\n",
        "print(math.fsum([a,b,c]))\n",
        "\n",
        "# mengubah degree ke radiant\n",
        "k = float(input('Masukkan angka untuk diubah ke radiant: '))\n",
        "print(math.radians(k))"
      ],
      "metadata": {
        "colab": {
          "base_uri": "https://localhost:8080/"
        },
        "id": "ZRbdybBAoHVg",
        "outputId": "cd00a5fa-cf08-437c-fa7e-f99044b15b4a"
      },
      "execution_count": 18,
      "outputs": [
        {
          "output_type": "stream",
          "name": "stdout",
          "text": [
            "Masukkan jari-jari lingkaran: 7\n",
            "153.93804002589985\n",
            "masukkan angka untuk di akar kuadrat: 7\n",
            "2.6457513110645907\n",
            "masukkan angka untuk log: 7\n",
            "1.9459101490553132\n",
            "masukkan angka untuk di sin: 6\n",
            "-0.27941549819892586\n",
            "masukkan angka untuk di cos: 50\n",
            "0.9649660284921133\n",
            "masukkan angka untuk di tan: 55\n",
            "-45.18308791052113\n",
            "Masukkan angka a:-54\n",
            "Masukkan angka b:55\n",
            "Masukkan angka c:7\n",
            "8.0\n",
            "Masukkan angka untuk diubah ke radiant: 37\n",
            "0.6457718232379019\n"
          ]
        }
      ]
    }
  ]
}