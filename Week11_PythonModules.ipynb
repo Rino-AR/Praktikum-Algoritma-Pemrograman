{
  "nbformat": 4,
  "nbformat_minor": 0,
  "metadata": {
    "colab": {
      "provenance": [],
      "authorship_tag": "ABX9TyNtsdJ2/ETm7OoVboC3SG2g",
      "include_colab_link": true
    },
    "kernelspec": {
      "name": "python3",
      "display_name": "Python 3"
    },
    "language_info": {
      "name": "python"
    }
  },
  "cells": [
    {
      "cell_type": "markdown",
      "metadata": {
        "id": "view-in-github",
        "colab_type": "text"
      },
      "source": [
        "<a href=\"https://colab.research.google.com/github/Rino-AR/Praktikum-Algoritma-Pemrograman/blob/main/Week11_PythonModules.ipynb\" target=\"_parent\"><img src=\"https://colab.research.google.com/assets/colab-badge.svg\" alt=\"Open In Colab\"/></a>"
      ]
    },
    {
      "cell_type": "markdown",
      "source": [
        "## <h3 id=\"WeeklyExercise1\">Weekly Exercise 1</h3>\n",
        "Buatlah sebuah module dengan nama matematika.py lalu isikan dengan :\n",
        "\n",
        "<li>Konstanta Pi</li>\n",
        "<li>fungsi menghitung luas lingkaran</li>\n",
        "</li>fungsi menghitung luas persegi</li>\n",
        "</li>fungsi menghitung luas persegi</li>\n",
        "\n",
        "lalu buatlah kode program untu mengimport modul tersebut untuk menghitung masing-masing luas bangun."
      ],
      "metadata": {
        "id": "DSFfAiVJmzGZ"
      }
    },
    {
      "cell_type": "code",
      "execution_count": null,
      "metadata": {
        "id": "gGz4qdfoipoB"
      },
      "outputs": [],
      "source": [
        "import math\n",
        "\n",
        "def luas_lingkaran():\n",
        "    r = float(input(\"Masukkan jari-jari lingkaran: \"))\n",
        "    return math.pi * r**2\n",
        "\n",
        "def luas_persegi():\n",
        "    s = float(input(\"Masukkan sisi persegi: \"))\n",
        "    return s**2\n",
        "\n",
        "def luas_persegi_panjang():\n",
        "    p = float(input(\"Masukkan panjang persegi panjang: \"))\n",
        "    l = float(input(\"Masukkan lebar persegi panjang: \"))\n",
        "    return p * l"
      ]
    },
    {
      "cell_type": "code",
      "source": [
        "import Matematika\n",
        "\n",
        "print(Matematika.luas_lingkaran())\n",
        "print(Matematika.luas_persegi())\n",
        "print(Matematika.luas_persegi_panjang())"
      ],
      "metadata": {
        "colab": {
          "base_uri": "https://localhost:8080/"
        },
        "id": "_s0TrKoBjTia",
        "outputId": "5a20ced5-4714-4711-f9c0-cfc9e27b44e1"
      },
      "execution_count": 2,
      "outputs": [
        {
          "output_type": "stream",
          "name": "stdout",
          "text": [
            "Masukkan jari-jari lingkaran: 5\n",
            "78.53981633974483\n",
            "Masukkan sisi persegi: 5\n",
            "25.0\n",
            "Masukkan panjang persegi panjang: 5\n",
            "Masukkan lebar persegi panjang: 8\n",
            "40.0\n"
          ]
        }
      ]
    },
    {
      "cell_type": "markdown",
      "source": [
        "## <h3 id=\"WeeklyExercise1\">Weekly Exercise 2</h3>\n",
        "Manfaatkan built-in module math pada python lalu cobalah menggunakan minimal 5 fungsi yang ada pada module tersebut!"
      ],
      "metadata": {
        "id": "V8w-zMT0n6Q5"
      }
    },
    {
      "cell_type": "code",
      "source": [
        "import math\n",
        "# pi\n",
        "r = float(input(\"Masukkan jari-jari lingkaran: \"))\n",
        "print(math.pi * r**2)\n",
        "\n",
        "# sqrt = akar kuadrat\n",
        "g = float(input('masukkan angka untuk di akar kuadrat: '))\n",
        "print(math.sqrt(g))\n",
        "\n",
        "# log = logaritma\n",
        "p = float(input('masukkan angka untuk log: '))\n",
        "print(math.log(p))\n",
        "\n",
        "# sin\n",
        "x = float(input('masukkan angka untuk di sin: '))\n",
        "print(math.sin(x))\n",
        "\n",
        "# cos\n",
        "y = float(input('masukkan angka untuk di cos: '))\n",
        "print(math.cos(y))\n",
        "\n",
        "# tan\n",
        "z = float(input('masukkan angka untuk di tan: '))\n",
        "print(math.tan(z))\n",
        "\n",
        "# fsum = mengembalikan jumlah semua item (a+b+c)\n",
        "a = float(input('Masukkan angka a:'))\n",
        "b = float(input('Masukkan angka b:'))\n",
        "c = float(input('Masukkan angka c:'))\n",
        "print(math.fsum([a,b,c]))\n",
        "\n",
        "# mengubah degree ke radiant\n",
        "k = float(input('Masukkan angka untuk diubah ke radiant: '))\n",
        "print(math.radians(k))"
      ],
      "metadata": {
        "colab": {
          "base_uri": "https://localhost:8080/"
        },
        "id": "ohGcZVUrj3un",
        "outputId": "a2a81b5c-80dd-49c3-d88f-4d9cdf864098"
      },
      "execution_count": 4,
      "outputs": [
        {
          "output_type": "stream",
          "name": "stdout",
          "text": [
            "Masukkan jari-jari lingkaran: 7\n",
            "153.93804002589985\n",
            "masukkan angka untuk di akar kuadrat: 9\n",
            "3.0\n",
            "masukkan angka untuk log: 10\n",
            "2.302585092994046\n",
            "masukkan angka untuk di sin: 37\n",
            "-0.6435381333569995\n",
            "masukkan angka untuk di cos: 37\n",
            "0.7654140519453434\n",
            "masukkan angka untuk di tan: 37\n",
            "-0.8407712554027597\n",
            "Masukkan angka a:5\n",
            "Masukkan angka b:6\n",
            "Masukkan angka c:7\n",
            "18.0\n",
            "Masukkan angka untuk diubah ke radiant: 45\n",
            "0.7853981633974483\n"
          ]
        }
      ]
    }
  ]
}