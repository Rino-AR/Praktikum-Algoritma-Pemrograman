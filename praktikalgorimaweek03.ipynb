{
  "nbformat": 4,
  "nbformat_minor": 0,
  "metadata": {
    "colab": {
      "provenance": [],
      "authorship_tag": "ABX9TyMi2xTEBF2vwVsAyd3G1trD",
      "include_colab_link": true
    },
    "kernelspec": {
      "name": "python3",
      "display_name": "Python 3"
    },
    "language_info": {
      "name": "python"
    }
  },
  "cells": [
    {
      "cell_type": "markdown",
      "metadata": {
        "id": "view-in-github",
        "colab_type": "text"
      },
      "source": [
        "<a href=\"https://colab.research.google.com/github/Rino-AR/Praktikum-Algoritma-Pemrograman/blob/main/praktikalgorimaweek03.ipynb\" target=\"_parent\"><img src=\"https://colab.research.google.com/assets/colab-badge.svg\" alt=\"Open In Colab\"/></a>"
      ]
    },
    {
      "cell_type": "code",
      "execution_count": null,
      "metadata": {
        "colab": {
          "base_uri": "https://localhost:8080/"
        },
        "id": "P3LhcSgR8MuG",
        "outputId": "8e3d993d-73b2-435d-cce3-92e02ec65c8e"
      },
      "outputs": [
        {
          "output_type": "stream",
          "name": "stdout",
          "text": [
            "Teknologi Informasi UNTIDAR\n"
          ]
        }
      ],
      "source": [
        "print('Teknologi Informasi' + ' UNTIDAR')"
      ]
    },
    {
      "cell_type": "code",
      "source": [
        "print('New Year', 2023, 'See you soon!', sep= '. ')"
      ],
      "metadata": {
        "colab": {
          "base_uri": "https://localhost:8080/"
        },
        "id": "7XE6OlmU_cX3",
        "outputId": "674cc659-be3b-496c-ad52-239fe4415663"
      },
      "execution_count": null,
      "outputs": [
        {
          "output_type": "stream",
          "name": "stdout",
          "text": [
            "New Year. 2023. See you soon!\n"
          ]
        }
      ]
    },
    {
      "cell_type": "code",
      "source": [
        "# print with end whitespace\n",
        "#print('Good Morning!', end= ' ')\n",
        "\n",
        "print('Good Morning!', end = ' ')\n",
        "\n",
        "print('It is rainy today')"
      ],
      "metadata": {
        "colab": {
          "base_uri": "https://localhost:8080/"
        },
        "id": "s7YFAcb0F9G6",
        "outputId": "774c2a03-7dae-48a4-945b-8c30774059b3"
      },
      "execution_count": null,
      "outputs": [
        {
          "output_type": "stream",
          "name": "stdout",
          "text": [
            "Good Morning! It is rainy today\n"
          ]
        }
      ]
    },
    {
      "cell_type": "code",
      "source": [
        "x = 5\n",
        "y = 10\n",
        "\n",
        "print('The value of x is {} and y is {}'.format(x,y))"
      ],
      "metadata": {
        "colab": {
          "base_uri": "https://localhost:8080/"
        },
        "id": "f71olCGJG1xK",
        "outputId": "60a5c9ff-5322-4d0e-d765-f412f881225c"
      },
      "execution_count": null,
      "outputs": [
        {
          "output_type": "stream",
          "name": "stdout",
          "text": [
            "The value of x is 5 and y is 10\n"
          ]
        }
      ]
    },
    {
      "cell_type": "code",
      "source": [
        "pip install wget"
      ],
      "metadata": {
        "colab": {
          "base_uri": "https://localhost:8080/"
        },
        "id": "aL5OsQEPIIWT",
        "outputId": "2313b3cf-0015-4b13-c494-74912cc397d0"
      },
      "execution_count": null,
      "outputs": [
        {
          "output_type": "stream",
          "name": "stdout",
          "text": [
            "Collecting wget\n",
            "  Downloading wget-3.2.zip (10 kB)\n",
            "  Preparing metadata (setup.py) ... \u001b[?25l\u001b[?25hdone\n",
            "Building wheels for collected packages: wget\n",
            "  Building wheel for wget (setup.py) ... \u001b[?25l\u001b[?25hdone\n",
            "  Created wheel for wget: filename=wget-3.2-py3-none-any.whl size=9656 sha256=f3adb6219391ca6d365418c024bfe3aff81962e1fde8dae84580d5f7d59e1237\n",
            "  Stored in directory: /root/.cache/pip/wheels/8b/f1/7f/5c94f0a7a505ca1c81cd1d9208ae2064675d97582078e6c769\n",
            "Successfully built wget\n",
            "Installing collected packages: wget\n",
            "Successfully installed wget-3.2\n"
          ]
        }
      ]
    },
    {
      "cell_type": "code",
      "source": [
        "mkdir -p /resources/data #download data"
      ],
      "metadata": {
        "id": "i3jNszqsI0SD"
      },
      "execution_count": null,
      "outputs": []
    },
    {
      "cell_type": "markdown",
      "source": [
        "# **Wekkly Exercise** **1**"
      ],
      "metadata": {
        "id": "Z40YZDXyE3y5"
      }
    },
    {
      "cell_type": "markdown",
      "source": [
        "## <h3 id=\"WeeklyExercise1\">Weekly Exercise 1</h3>\n",
        "1. Buatlah sebuah file .txt yang berisi biodata Anda meliputi : nama, program studi, NPM, alamat, hobi, dan email.\n",
        "2. Buatlah script untuk menampilkan menampilkan nama, program studi, dan email.\n",
        "3. Buatlah script untuk mengambil data nama, NPM, program studi dan alamat kemudian menyimpan dalam bentuk file txt yang baru.\n"
      ],
      "metadata": {
        "id": "WXiBZKBgFHFS"
      }
    },
    {
      "cell_type": "code",
      "source": [
        "with open('/resources/data/biodata.txt', \"r\") as file1:\n",
        "  FileContent = file1.read()\n",
        "  print(FileContent)"
      ],
      "metadata": {
        "colab": {
          "base_uri": "https://localhost:8080/"
        },
        "id": "BgM0hGTcM2fQ",
        "outputId": "efa76666-463a-4482-d881-6b282b7e1801"
      },
      "execution_count": null,
      "outputs": [
        {
          "output_type": "stream",
          "name": "stdout",
          "text": [
            "Nama    : Rino Ahmad Raga\n",
            "Prodi   : Teknologi Informasi\n",
            "NPM     : 2440506061\n",
            "Alamat  : Salaman, Magelang\n",
            "Hobi    : Baca manga,nonton anime & main game\n",
            "Email   : rinoahmadraga@gmail.com\n"
          ]
        }
      ]
    },
    {
      "cell_type": "code",
      "source": [
        "with open('/resources/data/biodata.txt', \"r\") as file1:\n",
        "    FileasList = file1.readlines()"
      ],
      "metadata": {
        "id": "H7jPEZoHSTwC"
      },
      "execution_count": null,
      "outputs": []
    },
    {
      "cell_type": "code",
      "source": [
        "FileasList[0]"
      ],
      "metadata": {
        "colab": {
          "base_uri": "https://localhost:8080/",
          "height": 35
        },
        "id": "ojOcaeOiTGty",
        "outputId": "eaae292f-8a67-4a7d-fe5e-74102282e5ab"
      },
      "execution_count": null,
      "outputs": [
        {
          "output_type": "execute_result",
          "data": {
            "text/plain": [
              "'Nama    : Rino Ahmad Raga\\n'"
            ],
            "application/vnd.google.colaboratory.intrinsic+json": {
              "type": "string"
            }
          },
          "metadata": {},
          "execution_count": 36
        }
      ]
    },
    {
      "cell_type": "code",
      "source": [
        "FileasList[1]"
      ],
      "metadata": {
        "colab": {
          "base_uri": "https://localhost:8080/",
          "height": 35
        },
        "id": "eicprMAJTtvC",
        "outputId": "bf70dba1-41ff-4812-e52b-802b7fc37573"
      },
      "execution_count": null,
      "outputs": [
        {
          "output_type": "execute_result",
          "data": {
            "text/plain": [
              "'Prodi   : Teknologi Informasi\\n'"
            ],
            "application/vnd.google.colaboratory.intrinsic+json": {
              "type": "string"
            }
          },
          "metadata": {},
          "execution_count": 37
        }
      ]
    },
    {
      "cell_type": "code",
      "source": [
        "FileasList[2]"
      ],
      "metadata": {
        "colab": {
          "base_uri": "https://localhost:8080/",
          "height": 35
        },
        "id": "47J9rba3UIpC",
        "outputId": "63929cbb-a2a8-4fcb-c4bd-fbfe2a8a8f6a"
      },
      "execution_count": null,
      "outputs": [
        {
          "output_type": "execute_result",
          "data": {
            "text/plain": [
              "'NPM     : 2440506061\\n'"
            ],
            "application/vnd.google.colaboratory.intrinsic+json": {
              "type": "string"
            }
          },
          "metadata": {},
          "execution_count": 38
        }
      ]
    },
    {
      "cell_type": "code",
      "source": [
        "FileasList[3]"
      ],
      "metadata": {
        "colab": {
          "base_uri": "https://localhost:8080/",
          "height": 35
        },
        "id": "ftqxmSV5UTRq",
        "outputId": "2da49300-a47f-40ab-9ab4-09223588cf8b"
      },
      "execution_count": null,
      "outputs": [
        {
          "output_type": "execute_result",
          "data": {
            "text/plain": [
              "'Alamat  : Salaman, Magelang\\n'"
            ],
            "application/vnd.google.colaboratory.intrinsic+json": {
              "type": "string"
            }
          },
          "metadata": {},
          "execution_count": 39
        }
      ]
    },
    {
      "cell_type": "code",
      "source": [
        "with open('biobaru.txt', \"w\") as file1:\n",
        "  file1.write(FileasList[0])\n",
        "  file1.write(FileasList[1])\n",
        "  file1.write(FileasList[2])"
      ],
      "metadata": {
        "id": "rgjQWDsDYSzS"
      },
      "execution_count": null,
      "outputs": []
    },
    {
      "cell_type": "code",
      "source": [
        "with open('biobaru.txt', \"r\") as file1:\n",
        "  print(file1.read())"
      ],
      "metadata": {
        "colab": {
          "base_uri": "https://localhost:8080/"
        },
        "id": "D9puPQUrZ7ca",
        "outputId": "8dd03666-c5c6-4783-964e-55c22495f5c2"
      },
      "execution_count": null,
      "outputs": [
        {
          "output_type": "stream",
          "name": "stdout",
          "text": [
            "Nama    : Rino Ahmad Raga\n",
            "Prodi   : Teknologi Informasi\n",
            "NPM     : 2440506061\n",
            "\n"
          ]
        }
      ]
    },
    {
      "cell_type": "markdown",
      "source": [
        "## <h3 id=\"WeeklyExercise2\">Weekly Exercise 2</h3>\n",
        "\n",
        "Perbaiki script berikut sehingga tidak muncul error:\n",
        "<pre>\n",
        "print (\"Selamat datang di Toko Maju Jaya\")\n",
        "print \"Senin, 4 September 2023       13.05\")\n",
        "print(\" \"\n",
        "\n",
        "print \"DAFTAR BELANJA:\")\n",
        "item1 = \"Sabun\"\n",
        "item2 = 'Shampo'\n",
        "item3 = Mie instant\n",
        "item4 = Detergen\n",
        "harga1 = Rp 10000\n",
        "harga2 = 15000\n",
        "harga3 = Rp 5000\n",
        "harga4 = 17500\n",
        "\n",
        "total = hargga1+harga2+hargga3+harga\n",
        "\n",
        "print(item1,          = Rp  + harga1)\n",
        "print(item2, '        = Rp '+ harga2)\n",
        "print(item3,    = Rp + hargaa3)\n",
        "print(item4,       = Rp + harga)\n",
        "\n",
        "print(\" \")\n",
        "print(\"Total = Rp \"+total)\n",
        "\n",
        "with open('Kuitansi.txt', w') writefile:\n",
        "        writefiile.write(\"Selamat Datang di Toko Maju Jaya\\n\")\n",
        "        writefille.write(\" \\n\")\n",
        "        writefiile.write(\"Kuitansi - 4 Septermber 2023\\n\")\n",
        "        writefille.write(\" \\n\")\n",
        "        writefiile.write(item1+\" = Rp \" harga1+\"\\n\"\n",
        "        writefille.write(item2+\" = Rp \" harga2\")\n",
        "        writefiile.write(item3+\" = Rp \" harga3+\\n\")\n",
        "        writefille.write(item4+\" = Rp \" harga4+\"\\n)\n",
        "        writefiile.write(\" \\n\")\n",
        "        writefille.write(\"Total Belanja =\"+total\n",
        "</pre>\n",
        "\n",
        "Output yang diharapkan adalah luaran program dan file .txt sesuai dengan hasil luaran program"
      ],
      "metadata": {
        "id": "isYzW3dmcPJx"
      }
    },
    {
      "cell_type": "code",
      "source": [
        "print('Selamat datang di Toko Maju Jaya')\n",
        "print('Senin, 4 September 2023    13.05')\n",
        "print(' ')\n",
        "print('DAFTAR BELANJA:')\n",
        "item1 = 'Sabun'\n",
        "item2 = 'Shampo'\n",
        "item3 = 'Mie Instant'\n",
        "item4 = 'Detergen'\n",
        "harga1 = 10000\n",
        "harga2 = 15000\n",
        "harga3 = 5000\n",
        "harga4 = 17500\n",
        "\n",
        "total = harga1 + harga2 + harga3 + harga4\n",
        "\n",
        "print(item1, '= Rp ', harga1)\n",
        "print(item2, '= Rp ', harga2)\n",
        "print(item3, '= Rp ', harga3)\n",
        "print(item4, '= Rp ', harga4)\n",
        "\n",
        "print(' ')\n",
        "print('Total Belanja =', total)\n",
        "\n",
        "with open('Kuitansi.txt', 'w') as writefile:\n",
        "        writefile.write(\"Selamat Datang di Toko Maju Jaya\\n\")\n",
        "        writefile.write(\" \\n\")\n",
        "        writefile.write(\"Kuitansi - 4 Septermber 2023\\n\")\n",
        "        writefile.write(\" \\n\")\n",
        "        writefile.write(item1 + \" = Rp \" + str(harga1) + \"\\n\")\n",
        "        writefile.write(item2 + \" = Rp \" + str(harga2) + \"\\n\")\n",
        "        writefile.write(item3 + \" = Rp \" + str(harga3) + \"\\n\")\n",
        "        writefile.write(item4 + \" = Rp \" + str(harga4) + \"\\n\")\n",
        "        writefile.write(\" \\n\")\n",
        "        writefile.write(\"Total Belanja =\"+ str(total))"
      ],
      "metadata": {
        "colab": {
          "base_uri": "https://localhost:8080/"
        },
        "id": "QD-GCnpscVGi",
        "outputId": "02592566-c204-4117-a4e0-f62123cb8fee"
      },
      "execution_count": 11,
      "outputs": [
        {
          "output_type": "stream",
          "name": "stdout",
          "text": [
            "Selamat datang di Toko Maju Jaya\n",
            "Senin, 4 September 2023    13.05\n",
            " \n",
            "DAFTAR BELANJA:\n",
            "Sabun = Rp  10000\n",
            "Shampo = Rp  15000\n",
            "Mie Instant = Rp  5000\n",
            "Detergen = Rp  17500\n",
            " \n",
            "Total Belanja = 47500\n"
          ]
        }
      ]
    }
  ]
}