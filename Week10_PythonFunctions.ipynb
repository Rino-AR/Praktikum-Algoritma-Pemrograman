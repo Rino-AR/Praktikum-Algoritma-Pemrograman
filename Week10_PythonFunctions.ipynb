{
  "nbformat": 4,
  "nbformat_minor": 0,
  "metadata": {
    "colab": {
      "provenance": [],
      "authorship_tag": "ABX9TyNg5g6ojs3GTdNhK1rhCVH2",
      "include_colab_link": true
    },
    "kernelspec": {
      "name": "python3",
      "display_name": "Python 3"
    },
    "language_info": {
      "name": "python"
    }
  },
  "cells": [
    {
      "cell_type": "markdown",
      "metadata": {
        "id": "view-in-github",
        "colab_type": "text"
      },
      "source": [
        "<a href=\"https://colab.research.google.com/github/Rino-AR/Praktikum-Algoritma-Pemrograman/blob/main/Week10_PythonFunctions.ipynb\" target=\"_parent\"><img src=\"https://colab.research.google.com/assets/colab-badge.svg\" alt=\"Open In Colab\"/></a>"
      ]
    },
    {
      "cell_type": "code",
      "execution_count": 5,
      "metadata": {
        "colab": {
          "base_uri": "https://localhost:8080/"
        },
        "id": "1OUb9j57RWPn",
        "outputId": "4f2b2cdd-1199-465a-a2d5-cfb57206c86e"
      },
      "outputs": [
        {
          "output_type": "stream",
          "name": "stdout",
          "text": [
            "15\n",
            "25\n",
            "45\n"
          ]
        }
      ],
      "source": [
        "def my_function(x):\n",
        "  return 5 * x\n",
        "\n",
        "print(my_function(3))\n",
        "print(my_function(5))\n",
        "print(my_function(9))"
      ]
    },
    {
      "cell_type": "markdown",
      "source": [
        "## <h3 id=\"WeeklyExercise1\">Weekly Exercise 1</h3>\n",
        "Buatlah kode program untuk menghitung nilai faktorial dari bilangan yang diinputkan oleh pengguna dengan memanfaatkan fungsi rekursif!\n"
      ],
      "metadata": {
        "id": "WUWLxbodWkwF"
      }
    },
    {
      "cell_type": "code",
      "source": [
        "n = int(input('Masukkan bilangan: '))\n",
        "\n",
        "def factorial(x):\n",
        "  if x == 1:\n",
        "     return 1\n",
        "  else:\n",
        "     return (x * factorial(x-1))\n",
        "\n",
        "factorial = factorial(n)\n",
        "print(f'{n}! = {factorial}')"
      ],
      "metadata": {
        "colab": {
          "base_uri": "https://localhost:8080/"
        },
        "id": "XMop7jm-WXAd",
        "outputId": "fc541fbe-aa33-41b7-a728-432034e36da2"
      },
      "execution_count": 12,
      "outputs": [
        {
          "output_type": "stream",
          "name": "stdout",
          "text": [
            "Masukkan bilangan: 3\n",
            "3! = 6\n"
          ]
        }
      ]
    },
    {
      "cell_type": "markdown",
      "source": [
        "## <h3 id=\"WeeklyExercise1\">Weekly Exercise 2</h3>\n",
        "Buatlah kalkulator untuk menghitung luas bangun datar lingkaran, persegi dan segitiga dengan memanfaatkan fungsi\n",
        "<li>masing-masing kode program dimasukkan ke dalam fungsi yang berbeda</li>\n",
        "<li>pengguna diberikan pilihan perhitungan</li>\n",
        "<li>sebelum dipilih selesai program tidak akan berhenti</li>"
      ],
      "metadata": {
        "id": "cXGOeEJeaHy0"
      }
    },
    {
      "cell_type": "code",
      "source": [
        "import math\n",
        "\n",
        "def luas_lingkaran(r):\n",
        "  \"\"\"Menghitung luas lingkaran.\"\"\"\n",
        "  return math.pi *r**2\n",
        "\n",
        "def luas_persegi(s):\n",
        "  \"\"\"Menghitung luas persegi.\"\"\"\n",
        "  return s**2\n",
        "\n",
        "def luas_segitiga(alas, tinggi):\n",
        "  \"\"\"Menghitung luas segitiga.\"\"\"\n",
        "  return 0.5 * a * t\n",
        "\n",
        "while True:\n",
        "  print(\"\\nPilih perhitungan:\")\n",
        "  print(\"1. Luas Lingkaran\")\n",
        "  print(\"2. Luas Persegi\")\n",
        "  print(\"3. Luas Segitiga\")\n",
        "  print(\"4. Selesai\")\n",
        "\n",
        "  pilihan = input(\"Pilih metode perhitungan (1/2/3/4): \")\n",
        "\n",
        "  if pilihan == '1':\n",
        "    r = float(input(\"Masukkan jari-jari lingkaran: \"))\n",
        "    luas = luas_lingkaran(r)\n",
        "    print(f\"Luas lingkaran: {luas}\")\n",
        "  elif pilihan == '2':\n",
        "    s = float(input(\"Masukkan panjang sisi persegi: \"))\n",
        "    luas = luas_persegi(s)\n",
        "    print(f\"Luas persegi: {luas}\")\n",
        "  elif pilihan == '3':\n",
        "    a = float(input(\"Masukkan panjang alas segitiga: \"))\n",
        "    t = float(input(\"Masukkan tinggi segitiga: \"))\n",
        "    luas = luas_segitiga(a, t)\n",
        "    print(f\"Luas segitiga: {luas}\")\n",
        "  elif pilihan == '4':\n",
        "    print(\"Program selesai.\")\n",
        "    break\n",
        "  else:\n",
        "    print(\"Pilihan tidak valid. Silakan coba lagi.\")"
      ],
      "metadata": {
        "colab": {
          "base_uri": "https://localhost:8080/"
        },
        "id": "rgFEgAZ5dsst",
        "outputId": "890de8be-e3dd-43ae-d6cf-e1c9df4e5afc"
      },
      "execution_count": 17,
      "outputs": [
        {
          "output_type": "stream",
          "name": "stdout",
          "text": [
            "\n",
            "Pilih perhitungan:\n",
            "1. Luas Lingkaran\n",
            "2. Luas Persegi\n",
            "3. Luas Segitiga\n",
            "4. Selesai\n",
            "Pilih metode perhitungan (1/2/3/4): 3\n",
            "Masukkan panjang alas segitiga: 3\n",
            "Masukkan tinggi segitiga: 4\n",
            "Luas segitiga: 6.0\n",
            "\n",
            "Pilih perhitungan:\n",
            "1. Luas Lingkaran\n",
            "2. Luas Persegi\n",
            "3. Luas Segitiga\n",
            "4. Selesai\n",
            "Pilih metode perhitungan (1/2/3/4): 4\n",
            "Program selesai.\n"
          ]
        }
      ]
    },
    {
      "cell_type": "code",
      "source": [],
      "metadata": {
        "id": "XOJJuJGyeEhZ"
      },
      "execution_count": null,
      "outputs": []
    }
  ]
}