{
  "nbformat": 4,
  "nbformat_minor": 0,
  "metadata": {
    "colab": {
      "provenance": [],
      "authorship_tag": "ABX9TyPDF3iVBnicE/L4eOUIUK91",
      "include_colab_link": true
    },
    "kernelspec": {
      "name": "python3",
      "display_name": "Python 3"
    },
    "language_info": {
      "name": "python"
    }
  },
  "cells": [
    {
      "cell_type": "markdown",
      "metadata": {
        "id": "view-in-github",
        "colab_type": "text"
      },
      "source": [
        "<a href=\"https://colab.research.google.com/github/Rino-AR/Praktikum-Algoritma-Pemrograman/blob/main/Week12_PythonTryExcept_.ipynb\" target=\"_parent\"><img src=\"https://colab.research.google.com/assets/colab-badge.svg\" alt=\"Open In Colab\"/></a>"
      ]
    },
    {
      "cell_type": "markdown",
      "source": [
        "## <h3 id=\"WeeklyExercise1\">Weekly Exercise 1</h3>\n",
        "Pada program perhitungan bangun datar tugas sebelumnya, berikan <i>Exception Handling</i> :\n",
        "<li>Jika user lupa memasukkan nilai atau kosong maka akan muncul keterangan \"tidak boleh kosong\"</li>\n",
        "<li>Jika karakter yang diinputkan user bukan integer maka akan muncul error \"hanya boleh memasukkan angka\"</li>\n"
      ],
      "metadata": {
        "id": "J0sjtP4zeZ5b"
      }
    },
    {
      "cell_type": "code",
      "source": [
        "import math\n",
        "\n",
        "def luas_lingkaran(r):\n",
        "  \"\"\"Menghitung luas lingkaran.\"\"\"\n",
        "  return math.pi *r**2\n",
        "\n",
        "def luas_persegi(s):\n",
        "  \"\"\"Menghitung luas persegi.\"\"\"\n",
        "  return s**2\n",
        "\n",
        "def luas_segitiga(a, t):\n",
        "  \"\"\"Menghitung luas segitiga.\"\"\"\n",
        "  return 0.5 * a * t\n",
        "\n",
        "while True:\n",
        "  print(\"\\nPilih perhitungan:\")\n",
        "  print(\"1. Luas Lingkaran\")\n",
        "  print(\"2. Luas Persegi\")\n",
        "  print(\"3. Luas Segitiga\")\n",
        "  print(\"4. Selesai\")\n",
        "\n",
        "  try :\n",
        "   pilihan = input(\"Pilih perhitungan:\")\n",
        "  except ValueError:\n",
        "    print('Hanya boleh memasukkan angka di daftar perhitungan')\n",
        "    continue\n",
        "\n",
        "  if pilihan == '1':\n",
        "    try :\n",
        "      r = float(input(\"Masukkan jari-jari lingkaran: \"))\n",
        "    except ValueError:\n",
        "      print(\"Hanya boleh memasukkan angka dan tidak boleh kosong\")\n",
        "      continue\n",
        "    luas = luas_lingkaran(r)\n",
        "    print(f\"Luas lingkaran: {luas}\")\n",
        "  elif pilihan == '2':\n",
        "    try :\n",
        "      s = float(input(\"Masukkan panjang sisi persegi: \"))\n",
        "    except ValueError:\n",
        "      print(\"Hanya boleh memasukkan angka dan tidak boleh kosong.\")\n",
        "      continue\n",
        "    luas = luas_persegi(s)\n",
        "    print(f\"Luas persegi: {luas}\")\n",
        "  elif pilihan == '3':\n",
        "    try :\n",
        "      a = float(input(\"Masukkan panjang alas segitiga: \"))\n",
        "    except ValueError:\n",
        "      print(\"Hanya boleh memasukkan angka dan tidak boleh kosong\")\n",
        "      continue\n",
        "    try :\n",
        "      t = float(input(\"Masukkan tinggi segitiga: \"))\n",
        "    except ValueError:\n",
        "      print(\"Hanya boleh memasukkan angka dan tidak boleh kosong\")\n",
        "      continue\n",
        "    luas = luas_segitiga(a, t)\n",
        "    print(f\"Luas segitiga: {luas}\")\n",
        "  elif pilihan == '4':\n",
        "    print(\"Program selesai.\")\n",
        "    break\n",
        "  else:\n",
        "    print(\"Pilihan tidak valid. Silakan coba lagi.\")"
      ],
      "metadata": {
        "colab": {
          "base_uri": "https://localhost:8080/"
        },
        "id": "BRb5--09k1wJ",
        "outputId": "d55b6909-0ac5-4ff6-b0e5-58c06bfb88b9"
      },
      "execution_count": 7,
      "outputs": [
        {
          "output_type": "stream",
          "name": "stdout",
          "text": [
            "\n",
            "Pilih perhitungan:\n",
            "1. Luas Lingkaran\n",
            "2. Luas Persegi\n",
            "3. Luas Segitiga\n",
            "4. Selesai\n",
            "Pilih perhitungan:\n",
            "Pilihan tidak valid. Silakan coba lagi.\n",
            "\n",
            "Pilih perhitungan:\n",
            "1. Luas Lingkaran\n",
            "2. Luas Persegi\n",
            "3. Luas Segitiga\n",
            "4. Selesai\n",
            "Pilih perhitungan:1\n",
            "Masukkan jari-jari lingkaran: NOT number\n",
            "Hanya boleh memasukkan angka dan tidak boleh kosong\n",
            "\n",
            "Pilih perhitungan:\n",
            "1. Luas Lingkaran\n",
            "2. Luas Persegi\n",
            "3. Luas Segitiga\n",
            "4. Selesai\n",
            "Pilih perhitungan:2\n",
            "Masukkan panjang sisi persegi: \n",
            "Hanya boleh memasukkan angka dan tidak boleh kosong.\n",
            "\n",
            "Pilih perhitungan:\n",
            "1. Luas Lingkaran\n",
            "2. Luas Persegi\n",
            "3. Luas Segitiga\n",
            "4. Selesai\n",
            "Pilih perhitungan:4\n",
            "Program selesai.\n"
          ]
        }
      ]
    },
    {
      "cell_type": "markdown",
      "source": [
        "## <h3 id=\"WeeklyExercise1\">Weekly Exercise 2</h3>\n",
        "Pada program yang anda buat saat UTS berikan <i>Exception Handling</i> lalu kumpulkan file di elita!\n"
      ],
      "metadata": {
        "id": "Jv3nsXQ82H5W"
      }
    },
    {
      "cell_type": "code",
      "source": [
        "# NPM = 2440506061\n",
        "try:\n",
        "  NPM = input(\"Masukkan NPM:\")\n",
        "\n",
        "  jumlah_genap = 0\n",
        "  jumlah_ganjil = 0\n",
        "\n",
        "  for digit in NPM:\n",
        "\n",
        "      if int(digit) % 2 == 0:\n",
        "          jumlah_genap += 1\n",
        "      else:\n",
        "          jumlah_ganjil += 1\n",
        "\n",
        "  print(\"Jumlah angka genap:\", jumlah_genap)\n",
        "  print(\"Jumlah angka ganjil:\",jumlah_ganjil)\n",
        "\n",
        "except ValueError:\n",
        "  print(\"NPM harus berupa angka\")\n",
        ""
      ],
      "metadata": {
        "colab": {
          "base_uri": "https://localhost:8080/"
        },
        "id": "7LOpWgPBxVKy",
        "outputId": "954ac6ea-8839-49ea-c55b-6c498f0474f7"
      },
      "execution_count": 13,
      "outputs": [
        {
          "output_type": "stream",
          "name": "stdout",
          "text": [
            "Masukkan NPM:DVBU BUBV\n",
            "NPM harus berupa angka\n"
          ]
        }
      ]
    }
  ]
}