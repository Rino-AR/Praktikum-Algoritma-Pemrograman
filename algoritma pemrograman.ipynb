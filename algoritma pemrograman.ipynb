{
  "nbformat": 4,
  "nbformat_minor": 0,
  "metadata": {
    "colab": {
      "provenance": []
    },
    "kernelspec": {
      "name": "python3",
      "display_name": "Python 3"
    },
    "language_info": {
      "name": "python"
    }
  },
  "cells": [
    {
      "cell_type": "markdown",
      "source": [
        "Say hello world"
      ],
      "metadata": {
        "id": "fFSdg4siBPiS"
      }
    },
    {
      "cell_type": "code",
      "source": [
        "print(\"hello world\") #print the traditional hello world"
      ],
      "metadata": {
        "colab": {
          "base_uri": "https://localhost:8080/"
        },
        "id": "U0ues4cj_4J6",
        "outputId": "5068ec6c-85d7-478a-b695-dbb961fb39a8"
      },
      "execution_count": null,
      "outputs": [
        {
          "output_type": "stream",
          "name": "stdout",
          "text": [
            "hello world\n"
          ]
        }
      ]
    },
    {
      "cell_type": "code",
      "source": [
        "# Try display \"Inovation, Ingnity Inovation\"\n",
        "print(\"Inovation, Ignity Inovation\")"
      ],
      "metadata": {
        "colab": {
          "base_uri": "https://localhost:8080/"
        },
        "id": "eVM0xUPVBilK",
        "outputId": "5c293593-c20b-475e-cf19-0e5dc86e9b93"
      },
      "execution_count": null,
      "outputs": [
        {
          "output_type": "stream",
          "name": "stdout",
          "text": [
            "Inovation, Ignity Inovation\n"
          ]
        }
      ]
    },
    {
      "cell_type": "code",
      "source": [
        "# Check your Python ver.\n",
        "\n",
        "import sys\n",
        "print(sys.version)"
      ],
      "metadata": {
        "colab": {
          "base_uri": "https://localhost:8080/"
        },
        "id": "ncUOz7IgCJM8",
        "outputId": "3842871c-d560-4c4a-a8ee-3f8632e19e44"
      },
      "execution_count": null,
      "outputs": [
        {
          "output_type": "stream",
          "name": "stdout",
          "text": [
            "3.10.12 (main, Jul 29 2024, 16:56:48) [GCC 11.4.0]\n"
          ]
        }
      ]
    },
    {
      "cell_type": "code",
      "source": [
        "# coba-coba\n",
        "print{'AliesZ'}"
      ],
      "metadata": {
        "colab": {
          "base_uri": "https://localhost:8080/",
          "height": 106
        },
        "id": "oHGPM7nKC5yt",
        "outputId": "23436678-a60a-4abb-c0de-a3e86cce5efe"
      },
      "execution_count": null,
      "outputs": [
        {
          "output_type": "error",
          "ename": "SyntaxError",
          "evalue": "Missing parentheses in call to 'print'. Did you mean print(...)? (<ipython-input-7-6906a3d4f003>, line 2)",
          "traceback": [
            "\u001b[0;36m  File \u001b[0;32m\"<ipython-input-7-6906a3d4f003>\"\u001b[0;36m, line \u001b[0;32m2\u001b[0m\n\u001b[0;31m    print{'AliesZ'}\u001b[0m\n\u001b[0m    ^\u001b[0m\n\u001b[0;31mSyntaxError\u001b[0m\u001b[0;31m:\u001b[0m Missing parentheses in call to 'print'. Did you mean print(...)?\n"
          ]
        }
      ]
    },
    {
      "cell_type": "markdown",
      "source": [
        "{} <- THIS THING IS FOR ANOTHER THINNG:"
      ],
      "metadata": {
        "id": "fLwM1KwREBUr"
      }
    },
    {
      "cell_type": "code",
      "source": [
        "# COBA-COBA\n",
        "print('Hello sekai, good morning wolrd')"
      ],
      "metadata": {
        "colab": {
          "base_uri": "https://localhost:8080/"
        },
        "id": "6zQe6AXiDsNz",
        "outputId": "791d6b6f-1946-42be-8202-339f0e4243c7"
      },
      "execution_count": null,
      "outputs": [
        {
          "output_type": "stream",
          "name": "stdout",
          "text": [
            "Hello sekai, good morning wolrd\n"
          ]
        }
      ]
    },
    {
      "cell_type": "code",
      "source": [
        "print('Honey')\n",
        "print('Sugar')\n",
        "print('ice')\n",
        "print('Mamamia')"
      ],
      "metadata": {
        "colab": {
          "base_uri": "https://localhost:8080/"
        },
        "id": "BbNWXEA2Ed18",
        "outputId": "b8638b42-a5c9-46f2-a4eb-a186fc000090"
      },
      "execution_count": null,
      "outputs": [
        {
          "output_type": "stream",
          "name": "stdout",
          "text": [
            "Honey\n",
            "Sugar\n",
            "ice\n",
            "Mamamia\n"
          ]
        }
      ]
    },
    {
      "cell_type": "code",
      "source": [
        "# its time to make mistake\n",
        "print('Ola) #forgot to close string"
      ],
      "metadata": {
        "colab": {
          "base_uri": "https://localhost:8080/",
          "height": 106
        },
        "id": "nGC052YtFWNf",
        "outputId": "ad399c06-0d3f-4e4d-d816-82ac9ab843e0"
      },
      "execution_count": null,
      "outputs": [
        {
          "output_type": "error",
          "ename": "SyntaxError",
          "evalue": "unterminated string literal (detected at line 2) (<ipython-input-10-1c3e89a50dad>, line 2)",
          "traceback": [
            "\u001b[0;36m  File \u001b[0;32m\"<ipython-input-10-1c3e89a50dad>\"\u001b[0;36m, line \u001b[0;32m2\u001b[0m\n\u001b[0;31m    print('Ola) #forgot to close string\u001b[0m\n\u001b[0m          ^\u001b[0m\n\u001b[0;31mSyntaxError\u001b[0m\u001b[0;31m:\u001b[0m unterminated string literal (detected at line 2)\n"
          ]
        }
      ]
    },
    {
      "cell_type": "code",
      "source": [
        "# Another mistake : Typo. Grint is not depfind 'caus it's not in the function. python showing you're mistake\n",
        "grint('Aing Maung')"
      ],
      "metadata": {
        "colab": {
          "base_uri": "https://localhost:8080/",
          "height": 159
        },
        "id": "rj_dydP1Gda-",
        "outputId": "20f4322d-2412-479b-90a4-450410357053"
      },
      "execution_count": null,
      "outputs": [
        {
          "output_type": "error",
          "ename": "NameError",
          "evalue": "name 'grint' is not defined",
          "traceback": [
            "\u001b[0;31m---------------------------------------------------------------------------\u001b[0m",
            "\u001b[0;31mNameError\u001b[0m                                 Traceback (most recent call last)",
            "\u001b[0;32m<ipython-input-11-43dca8790718>\u001b[0m in \u001b[0;36m<cell line: 2>\u001b[0;34m()\u001b[0m\n\u001b[1;32m      1\u001b[0m \u001b[0;31m# Another mistake : Typo\u001b[0m\u001b[0;34m\u001b[0m\u001b[0;34m\u001b[0m\u001b[0m\n\u001b[0;32m----> 2\u001b[0;31m \u001b[0mgrint\u001b[0m\u001b[0;34m(\u001b[0m\u001b[0;34m'Aing Maung'\u001b[0m\u001b[0;34m)\u001b[0m\u001b[0;34m\u001b[0m\u001b[0;34m\u001b[0m\u001b[0m\n\u001b[0m",
            "\u001b[0;31mNameError\u001b[0m: name 'grint' is not defined"
          ]
        }
      ]
    },
    {
      "cell_type": "code",
      "source": [
        "# print string and error to see the running order\n",
        "print('good')\n",
        "grint('bad') #grint is not defind\n",
        "print('good again, not gonna be printed')"
      ],
      "metadata": {
        "colab": {
          "base_uri": "https://localhost:8080/",
          "height": 211
        },
        "id": "TcC3LKEHG159",
        "outputId": "476f4af4-d087-4291-c633-f50781c13c85"
      },
      "execution_count": null,
      "outputs": [
        {
          "output_type": "stream",
          "name": "stdout",
          "text": [
            "good\n"
          ]
        },
        {
          "output_type": "error",
          "ename": "NameError",
          "evalue": "name 'grint' is not defined",
          "traceback": [
            "\u001b[0;31m---------------------------------------------------------------------------\u001b[0m",
            "\u001b[0;31mNameError\u001b[0m                                 Traceback (most recent call last)",
            "\u001b[0;32m<ipython-input-13-a1f0c4c455b7>\u001b[0m in \u001b[0;36m<cell line: 3>\u001b[0;34m()\u001b[0m\n\u001b[1;32m      1\u001b[0m \u001b[0;31m# print string and error to see the running order\u001b[0m\u001b[0;34m\u001b[0m\u001b[0;34m\u001b[0m\u001b[0m\n\u001b[1;32m      2\u001b[0m \u001b[0mprint\u001b[0m\u001b[0;34m(\u001b[0m\u001b[0;34m'good'\u001b[0m\u001b[0;34m)\u001b[0m\u001b[0;34m\u001b[0m\u001b[0;34m\u001b[0m\u001b[0m\n\u001b[0;32m----> 3\u001b[0;31m \u001b[0mgrint\u001b[0m\u001b[0;34m(\u001b[0m\u001b[0;34m'bad'\u001b[0m\u001b[0;34m)\u001b[0m \u001b[0;31m#grint is not defind\u001b[0m\u001b[0;34m\u001b[0m\u001b[0;34m\u001b[0m\u001b[0m\n\u001b[0m\u001b[1;32m      4\u001b[0m \u001b[0mprint\u001b[0m\u001b[0;34m(\u001b[0m\u001b[0;34m'good again, not gonna be printed'\u001b[0m\u001b[0;34m)\u001b[0m\u001b[0;34m\u001b[0m\u001b[0;34m\u001b[0m\u001b[0m\n",
            "\u001b[0;31mNameError\u001b[0m: name 'grint' is not defined"
          ]
        }
      ]
    },
    {
      "cell_type": "code",
      "source": [
        "#COBA BOLD\n",
        "print('**bold**') #note:failed"
      ],
      "metadata": {
        "colab": {
          "base_uri": "https://localhost:8080/"
        },
        "id": "e0oCsUcbSJ3S",
        "outputId": "5a348194-3041-44b3-93d1-b115579c764c"
      },
      "execution_count": null,
      "outputs": [
        {
          "output_type": "stream",
          "name": "stdout",
          "text": [
            "**bold**\n"
          ]
        }
      ]
    },
    {
      "cell_type": "markdown",
      "source": [
        "# **Weekly Exercise** **1**\n",
        "\n",
        "\n"
      ],
      "metadata": {
        "id": "DLppsVbVRWRB"
      }
    },
    {
      "cell_type": "markdown",
      "source": [
        "## <h3 id=\"WeeklyExercise1\">Weekly Exercise 1</h3>\n",
        "\n",
        "\n",
        "\n",
        "Buatlah sebuah program untuk menampilkan biodata anda, sebagai contoh :\n",
        "\n",
        "<pre>\n",
        "Nama          : Alifia Revan Prananda <br>\n",
        "NPM           : 1234567 <br>\n",
        "Alamat        : Jl. Kapten Suparman 39, Magelang, Jawa Tengah <br>\n",
        "Tinggi Badan  : 168.2 <br>\n",
        "Berat Badan   : 62.8 <br>\n",
        "</pre>"
      ],
      "metadata": {
        "id": "PQ4gNR2TJlDe"
      }
    },
    {
      "cell_type": "code",
      "source": [
        "# wekkly exercise 1\n",
        "print('Nama : Rino Ahmad Raga')\n",
        "print('NPM : 2440506061')\n",
        "print('Alamat : Jl. Sudirman, Salaman, Magelang')\n",
        "print('Tinggi Badan : 187')\n",
        "print('Berat Badan : 50')"
      ],
      "metadata": {
        "colab": {
          "base_uri": "https://localhost:8080/"
        },
        "id": "j6DAQtSBILI3",
        "outputId": "3437646a-0ed5-4fe7-e704-f9f55069b017"
      },
      "execution_count": null,
      "outputs": [
        {
          "output_type": "stream",
          "name": "stdout",
          "text": [
            "Nama : Rino Ahmad Raga\n",
            "NPM : 2440506061\n",
            "Alamat : Jl. Sudirman, Salaman, Magelang\n",
            "Tinggi Badan : 187\n",
            "Berat Badan : 50\n"
          ]
        }
      ]
    },
    {
      "cell_type": "markdown",
      "source": [
        "Nama          : Rino Ahmad Raga\n",
        "NPM           : 2440506061\n",
        "Alamat        : Ngdirejo, Salaman, Magelang\n",
        "Tinggi Badan  : 187\n",
        "Berat Badan   : 50"
      ],
      "metadata": {
        "id": "jAK89a20Oddg"
      }
    },
    {
      "cell_type": "code",
      "source": [
        "print('Nama         : Rino Ahmad Raga\\n') # \\n -> newline\n",
        "print('NPM          : 2440506061\\n')\n",
        "print('Alamat       : Jl. Sudirman, Ngdirejo, Salaman, Magelang\\n')\n",
        "print('Tinggi Badan : 187\\n')\n",
        "print('Berat Badan  : 50\\n')"
      ],
      "metadata": {
        "colab": {
          "base_uri": "https://localhost:8080/"
        },
        "id": "AnYJ1EZKNnno",
        "outputId": "1d7c9984-a70d-4497-b472-82e947c5f280"
      },
      "execution_count": null,
      "outputs": [
        {
          "output_type": "stream",
          "name": "stdout",
          "text": [
            "Nama         : Rino Ahmad Raga\n",
            "\n",
            "NPM          : 2440506061\n",
            "\n",
            "Alamat       : Jl. Sudirman, Ngdirejo, Salaman, Magelang\n",
            "\n",
            "Tinggi Badan : 187\n",
            "\n",
            "Berat Badan  : 50\n",
            "\n"
          ]
        }
      ]
    },
    {
      "cell_type": "markdown",
      "source": [
        "# **Weekly Exercise 2**"
      ],
      "metadata": {
        "id": "VLIDH-xeQssZ"
      }
    },
    {
      "cell_type": "markdown",
      "source": [
        "## <h3 id=\"WeeklyExercise2\">Weekly Exercise 2</h3>\n",
        "\n",
        "Buatlah sebuah program untuk menampilkan tulisan berikut ini :\n",
        "\n",
        "<pre>\n",
        "<b>UNIVERSITAS TIDAR </b>\n",
        "Universitas Tidar merupakan Perguruan Tinggi Pemerintah atau Perguruan Tinggi Negeri yang telah ditetapkan berdasarkan Peraturan Presiden Republik Indonesia Nomor 23 Tahun 2014 pada tanggal 1 April 2014.\n",
        "\n",
        "<b>JURUSAN TEKNIK ELEKTRO, MEKATRONIKA DAN INFORMASI</b>\n",
        "Jurusan Teknik Elektro terdiri atas tiga program studi, antara lain:\n",
        "    1. S1 Teknik Elektro <i>(Bachelor of Electrical Engineering)</i>\n",
        "    2. S1 Teknologi Informasi <i>(Bachelor of Information Technology)</i>\n",
        "    3. S1 Teknik Mekatronika <i>(Bachelor of Mechatronics Engineering)</i>\n",
        "\n",
        "</pre>"
      ],
      "metadata": {
        "id": "U8nu0K6mRuzC"
      }
    },
    {
      "cell_type": "markdown",
      "source": [
        "Bold => \\033[1mTeks Ini\\033[0m , Italic => \\x1B[3mTEXT\\x1B[0m\n",
        "\n"
      ],
      "metadata": {
        "id": "g21LY0wpS4pB"
      }
    },
    {
      "cell_type": "code",
      "source": [
        "print(\"\\033[1mUNIVERSITAS TIDAR\\033[0m\") # Bold => \\033[1mTeks Ini\\033[0m , Italic => \\x1B[3mTEXT\\x1B[0m  Satu TAB-> \\t\n",
        "print('Universitas Tidar merupakan Perguruan Tinggi Pemerintah atau Perguruan Tinggi yang telah ditetapkan berdasarkan Peraturan Presiden Republik Indonesia Nomor 23 Tahun 2014 pada tanggal 1 April 2014.\\n\\n\\033[1mJURUSAN TEKNIK ELEKTRO, MEKATRONIKA, DAN INFORMASI\\033[0m')\n",
        "print('Jurusan Teknik Elektro terdiri atas tiga program studi, antaara lain:')\n",
        "print('\\t1. S1 Teknik Elektro \\x1B[3m(Bachelaor of Electrical Engineering)\\x1B[0m')\n",
        "print('\\t2. S1 Teknologi Informasi \\x1B[3m(Bachelaor of Information Technology)\\x1B[0m')\n",
        "print('\\t3. S1 Teknik Mekatronika \\x1B[3m(Bachelaor of Mechatronics Engineering)\\x1B[0m')"
      ],
      "metadata": {
        "colab": {
          "base_uri": "https://localhost:8080/"
        },
        "id": "HU4iSFV-RHUK",
        "outputId": "c999d075-4eff-4c83-93a3-75d630b98fc2"
      },
      "execution_count": null,
      "outputs": [
        {
          "output_type": "stream",
          "name": "stdout",
          "text": [
            "\u001b[1mUNIVERSITAS TIDAR\u001b[0m\n",
            "Universitas Tidar merupakan Perguruan Tinggi Pemerintah atau Perguruan Tinggi yang telah ditetapkan berdasarkan Peraturan Presiden Republik Indonesia Nomor 23 Tahun 2014 pada tanggal 1 April 2014.\n",
            "\n",
            "\u001b[1mJURUSAN TEKNIK ELEKTRO, MEKATRONIKA, DAN INFORMASI\u001b[0m\n",
            "Jurusan Teknik Elektro terdiri atas tiga program studi, antaara lain:\n",
            "\t1. S1 Teknik Elektro \u001b[3m(Bachelaor of Electrical Engineering)\u001b[0m\n",
            "\t2. S1 Teknologi Informasi \u001b[3m(Bachelaor of Information Technology)\u001b[0m\n",
            "\t3. S1 Teknik Mekatronika \u001b[3m(Bachelaor of Mechatronics Engineering)\u001b[0m\n"
          ]
        }
      ]
    },
    {
      "cell_type": "markdown",
      "source": [
        "## **WEEK 02 (TWO)**"
      ],
      "metadata": {
        "id": "rWwydvZBUIxo"
      }
    },
    {
      "cell_type": "code",
      "source": [
        "# integer\n",
        "11"
      ],
      "metadata": {
        "colab": {
          "base_uri": "https://localhost:8080/"
        },
        "id": "7YR58hGKV2IB",
        "outputId": "ab8b8724-676d-4c36-91c9-2141e1958983"
      },
      "execution_count": null,
      "outputs": [
        {
          "output_type": "execute_result",
          "data": {
            "text/plain": [
              "11"
            ]
          },
          "metadata": {},
          "execution_count": 1
        }
      ]
    },
    {
      "cell_type": "code",
      "source": [
        "# float\n",
        "3.14"
      ],
      "metadata": {
        "colab": {
          "base_uri": "https://localhost:8080/"
        },
        "id": "D6l0J62fV7gu",
        "outputId": "8351f466-c307-4829-dda8-aa42fa4dd886"
      },
      "execution_count": null,
      "outputs": [
        {
          "output_type": "execute_result",
          "data": {
            "text/plain": [
              "3.14"
            ]
          },
          "metadata": {},
          "execution_count": 2
        }
      ]
    },
    {
      "cell_type": "code",
      "source": [
        "# string\n",
        "\n",
        "\"hello, world 101\""
      ],
      "metadata": {
        "colab": {
          "base_uri": "https://localhost:8080/",
          "height": 35
        },
        "id": "6YO8R6b_WCM4",
        "outputId": "9945bf8e-6275-472b-f7b5-145b362c7e73"
      },
      "execution_count": null,
      "outputs": [
        {
          "output_type": "execute_result",
          "data": {
            "text/plain": [
              "'hello, world 101'"
            ],
            "application/vnd.google.colaboratory.intrinsic+json": {
              "type": "string"
            }
          },
          "metadata": {},
          "execution_count": 3
        }
      ]
    },
    {
      "cell_type": "code",
      "source": [
        "# Type of 18\n",
        "type(18) # int => integer\n",
        "\n",
        "# float               # type() -> digunakan utk mencari tahu int,float,str\n",
        "type(3.14)\n",
        "\n",
        "#str = string\n",
        "type(\"hello, world\")"
      ],
      "metadata": {
        "colab": {
          "base_uri": "https://localhost:8080/"
        },
        "id": "u_z8YfGhW0bu",
        "outputId": "1702fba5-73c9-4ba4-fae2-69d4e537c37e"
      },
      "execution_count": null,
      "outputs": [
        {
          "output_type": "execute_result",
          "data": {
            "text/plain": [
              "str"
            ]
          },
          "metadata": {},
          "execution_count": 6
        }
      ]
    },
    {
      "cell_type": "markdown",
      "source": [
        "Integers-> positive and negative"
      ],
      "metadata": {
        "id": "5sJ3lM9sY27u"
      }
    },
    {
      "cell_type": "code",
      "source": [
        "type(-6)"
      ],
      "metadata": {
        "colab": {
          "base_uri": "https://localhost:8080/"
        },
        "id": "LQpZ3qJsZmKa",
        "outputId": "bf2d8357-0a24-471e-d5d5-ca25892d4dac"
      },
      "execution_count": null,
      "outputs": [
        {
          "output_type": "execute_result",
          "data": {
            "text/plain": [
              "int"
            ]
          },
          "metadata": {},
          "execution_count": 7
        }
      ]
    },
    {
      "cell_type": "markdown",
      "source": [
        "Floats -> superst of integer + decimals"
      ],
      "metadata": {
        "id": "u2GFaYrqZrtL"
      }
    },
    {
      "cell_type": "code",
      "source": [
        "#float type\n",
        "import sys # it is need to declare \"sys\" before using it\n",
        "sys.float_info"
      ],
      "metadata": {
        "colab": {
          "base_uri": "https://localhost:8080/"
        },
        "id": "f8QxOJMWboVt",
        "outputId": "19825b69-8707-4336-8685-6d83a529fcb7"
      },
      "execution_count": null,
      "outputs": [
        {
          "output_type": "execute_result",
          "data": {
            "text/plain": [
              "sys.float_info(max=1.7976931348623157e+308, max_exp=1024, max_10_exp=308, min=2.2250738585072014e-308, min_exp=-1021, min_10_exp=-307, dig=15, mant_dig=53, epsilon=2.220446049250313e-16, radix=2, rounds=1)"
            ]
          },
          "metadata": {},
          "execution_count": 9
        }
      ]
    },
    {
      "cell_type": "markdown",
      "source": [
        "Converting integer to float"
      ],
      "metadata": {
        "id": "Dak6e5zkajft"
      }
    },
    {
      "cell_type": "code",
      "source": [
        "float(2)"
      ],
      "metadata": {
        "colab": {
          "base_uri": "https://localhost:8080/"
        },
        "id": "dtbr0zlfpXIr",
        "outputId": "f7733677-fc7b-4247-b8c2-f74640e55e22"
      },
      "execution_count": null,
      "outputs": [
        {
          "output_type": "execute_result",
          "data": {
            "text/plain": [
              "2.0"
            ]
          },
          "metadata": {},
          "execution_count": 10
        }
      ]
    },
    {
      "cell_type": "code",
      "source": [
        "#check the type\n",
        "type(float(2))"
      ],
      "metadata": {
        "colab": {
          "base_uri": "https://localhost:8080/"
        },
        "id": "L75X9IEopePM",
        "outputId": "63250d40-02e6-410d-bc36-353cb7434046"
      },
      "execution_count": null,
      "outputs": [
        {
          "output_type": "execute_result",
          "data": {
            "text/plain": [
              "float"
            ]
          },
          "metadata": {},
          "execution_count": 11
        }
      ]
    },
    {
      "cell_type": "markdown",
      "source": [
        "Jika float ke integer nilainya akan berubah dan berpotensi kehilangan sebagian infoemasi. contoh: 1.1 menjadi 1 ,\n",
        "0.1 ilang"
      ],
      "metadata": {
        "id": "siD3pMQ-pyuV"
      }
    },
    {
      "cell_type": "code",
      "source": [
        "# Casting 1.1 to integer will result in loss of information\n",
        "int(1.1)"
      ],
      "metadata": {
        "colab": {
          "base_uri": "https://localhost:8080/"
        },
        "id": "3zs7nuHfty6Y",
        "outputId": "64e108b5-a07b-467e-bbf9-47af2bcb5ab2"
      },
      "execution_count": null,
      "outputs": [
        {
          "output_type": "execute_result",
          "data": {
            "text/plain": [
              "1"
            ]
          },
          "metadata": {},
          "execution_count": 12
        }
      ]
    },
    {
      "cell_type": "markdown",
      "source": [
        "str tp int or loat"
      ],
      "metadata": {
        "id": "deE7G9W5xUVy"
      }
    },
    {
      "cell_type": "code",
      "source": [
        "int('1') # str to int\n",
        "# \" \" & ' ' , can use one of 'em"
      ],
      "metadata": {
        "colab": {
          "base_uri": "https://localhost:8080/"
        },
        "id": "pBX4Y1izxOur",
        "outputId": "0a9b4793-2022-4760-ea1e-ced34cbef2ab"
      },
      "execution_count": null,
      "outputs": [
        {
          "output_type": "execute_result",
          "data": {
            "text/plain": [
              "1"
            ]
          },
          "metadata": {},
          "execution_count": 14
        }
      ]
    },
    {
      "cell_type": "code",
      "source": [
        "int(\" 5 or 6 bullets\") # its not number, so eror"
      ],
      "metadata": {
        "colab": {
          "base_uri": "https://localhost:8080/",
          "height": 141
        },
        "id": "rB2blg1ix6Hy",
        "outputId": "15ab441c-3585-4393-9d5d-713c3774182b"
      },
      "execution_count": null,
      "outputs": [
        {
          "output_type": "error",
          "ename": "ValueError",
          "evalue": "invalid literal for int() with base 10: ' 5 or 6 bullets'",
          "traceback": [
            "\u001b[0;31m---------------------------------------------------------------------------\u001b[0m",
            "\u001b[0;31mValueError\u001b[0m                                Traceback (most recent call last)",
            "\u001b[0;32m<ipython-input-15-12e6841d92af>\u001b[0m in \u001b[0;36m<cell line: 1>\u001b[0;34m()\u001b[0m\n\u001b[0;32m----> 1\u001b[0;31m \u001b[0mint\u001b[0m\u001b[0;34m(\u001b[0m\u001b[0;34m\" 5 or 6 bullets\"\u001b[0m\u001b[0;34m)\u001b[0m\u001b[0;34m\u001b[0m\u001b[0;34m\u001b[0m\u001b[0m\n\u001b[0m",
            "\u001b[0;31mValueError\u001b[0m: invalid literal for int() with base 10: ' 5 or 6 bullets'"
          ]
        }
      ]
    },
    {
      "cell_type": "code",
      "source": [
        "# str to float\n",
        "float(\"3.14\")"
      ],
      "metadata": {
        "colab": {
          "base_uri": "https://localhost:8080/"
        },
        "id": "Tc_LeAhMzkOe",
        "outputId": "dbd9cc72-e189-4c71-ef22-8673c1dbf3e4"
      },
      "execution_count": null,
      "outputs": [
        {
          "output_type": "execute_result",
          "data": {
            "text/plain": [
              "3.14"
            ]
          },
          "metadata": {},
          "execution_count": 16
        }
      ]
    },
    {
      "cell_type": "markdown",
      "source": [
        "Convertng numbers to string"
      ],
      "metadata": {
        "id": "Y3QF1tKS0mS8"
      }
    },
    {
      "cell_type": "code",
      "source": [
        "# int to str\n",
        "str(7)"
      ],
      "metadata": {
        "colab": {
          "base_uri": "https://localhost:8080/",
          "height": 35
        },
        "id": "KCRyDeiL0yEW",
        "outputId": "5ac38787-c052-4098-9369-20f09683ca47"
      },
      "execution_count": null,
      "outputs": [
        {
          "output_type": "execute_result",
          "data": {
            "text/plain": [
              "'7'"
            ],
            "application/vnd.google.colaboratory.intrinsic+json": {
              "type": "string"
            }
          },
          "metadata": {},
          "execution_count": 17
        }
      ]
    },
    {
      "cell_type": "code",
      "source": [
        "#Float to str\n",
        "str(3.14)"
      ],
      "metadata": {
        "colab": {
          "base_uri": "https://localhost:8080/",
          "height": 35
        },
        "id": "dqbPu_AE1IGD",
        "outputId": "07a95181-cfe5-4f5e-8adb-041de72b5d6c"
      },
      "execution_count": null,
      "outputs": [
        {
          "output_type": "execute_result",
          "data": {
            "text/plain": [
              "'3.14'"
            ],
            "application/vnd.google.colaboratory.intrinsic+json": {
              "type": "string"
            }
          },
          "metadata": {},
          "execution_count": 18
        }
      ]
    },
    {
      "cell_type": "markdown",
      "source": [
        "Boolean data type : true or false"
      ],
      "metadata": {
        "id": "ClMpSaNr2BK5"
      }
    },
    {
      "cell_type": "code",
      "source": [
        "True"
      ],
      "metadata": {
        "colab": {
          "base_uri": "https://localhost:8080/"
        },
        "id": "v812PCFi2eNT",
        "outputId": "38262844-e710-4f7e-f0c2-bc28b6fe5635"
      },
      "execution_count": null,
      "outputs": [
        {
          "output_type": "execute_result",
          "data": {
            "text/plain": [
              "True"
            ]
          },
          "metadata": {},
          "execution_count": 1
        }
      ]
    },
    {
      "cell_type": "code",
      "source": [
        "False"
      ],
      "metadata": {
        "id": "ezxD8Q2m3Ouz",
        "outputId": "8126bc80-9f12-4530-e5da-cf13522278e7",
        "colab": {
          "base_uri": "https://localhost:8080/"
        }
      },
      "execution_count": null,
      "outputs": [
        {
          "output_type": "execute_result",
          "data": {
            "text/plain": [
              "False"
            ]
          },
          "metadata": {},
          "execution_count": 20
        }
      ]
    },
    {
      "cell_type": "code",
      "source": [
        "type(True)"
      ],
      "metadata": {
        "id": "eqXZsxAf3Pqn",
        "colab": {
          "base_uri": "https://localhost:8080/"
        },
        "outputId": "0c8282df-fd53-472f-c3f3-212fe260d8f6"
      },
      "execution_count": null,
      "outputs": [
        {
          "output_type": "execute_result",
          "data": {
            "text/plain": [
              "bool"
            ]
          },
          "metadata": {},
          "execution_count": 3
        }
      ]
    },
    {
      "cell_type": "markdown",
      "source": [
        "# WEEKLY EXERCISE"
      ],
      "metadata": {
        "id": "Y3yTyNXXegto"
      }
    },
    {
      "cell_type": "markdown",
      "source": [
        "## <h3 id=\"WeeklyExercise1\">Weekly Exercise 1</h3>\n",
        "\n",
        "\n",
        "\n",
        "Perbaiki script berikut sehingga tidak muncul error.\n",
        "\n",
        "<pre>\n",
        "panjang = 20,5\n",
        "lebar = 25\n",
        "tinggi = 10\n",
        "\n",
        "keliling = 2*(panjang+lebar)\n",
        "luas = panjang*/lebar\n",
        "volum = panjang*lebar*tiggi\n",
        "\n",
        "print(\"Panjang = \" + 'panjang')\n",
        "printl(\"Lebar = ' + lebar)\n",
        "print('Tinggi = \"  tinggi)\n",
        "printl(\"Keliling = \"  'kelling')\n",
        "print(\"Volume = \" + volume)\n",
        "</pre>"
      ],
      "metadata": {
        "id": "_6rOuuaMe_In"
      }
    },
    {
      "cell_type": "code",
      "source": [
        "panjang = 20.5\n",
        "lebar = 25\n",
        "tinggi = 10\n",
        "keliling = 2*(panjang+lebar)\n",
        "luas = panjang*lebar\n",
        "volume = panjang*lebar*tinggi\n",
        "\n",
        "print(\"panjang = 20.5\")\n",
        "print(\"lebar = 25\")\n",
        "print(\"tinggi = 10\")\n",
        "keliling = 2*(panjang+lebar)\n",
        "print('keliling = ' ,keliling)\n",
        "luas = panjang*lebar\n",
        "print('luas = ' ,lebar)\n",
        "volume = (panjang*lebar*tinggi)\n",
        "print('volume =' ,volume)"
      ],
      "metadata": {
        "colab": {
          "base_uri": "https://localhost:8080/"
        },
        "id": "kRD47nX7e1QU",
        "outputId": "7dbfa8ac-5eef-4a87-9eb2-915d6c9c42b3"
      },
      "execution_count": null,
      "outputs": [
        {
          "output_type": "stream",
          "name": "stdout",
          "text": [
            "panjang = 20.5\n",
            "lebar = 25\n",
            "tinggi = 10\n",
            "keliling =  91.0\n",
            "luas =  25\n",
            "volume = 5125.0\n"
          ]
        }
      ]
    },
    {
      "cell_type": "markdown",
      "source": [
        "\n",
        "## <h3 id=\"WeeklyExercise2\">Weekly Exercise 2</h3>\n",
        "Terdapat data mahasiswa sebagai berikut:\n",
        "<p>\n",
        "<a align=\"center\">\n",
        "    <img src=\"https://core-ruangguru.s3.amazonaws.com/assets/ruang_belajar/questions/q_9cagpe6808.PNG\" width=\"300\">\n",
        "</a> </p>\n",
        "\n",
        "\n",
        "Berdasarkan data di atas, buatlah sebuah program untuk menampilkan data-data berikut :\n",
        "1. Rata-rata nilai Shafira pada kedua mata kuliah\n",
        "2. Jumlah nilai Hanif dan Andi untuk semua mata kuliah\n",
        "3. Rata-rata nilai Widya, Dhanar, Hikma dan Nedia pada masing-masing mata kuliah\n",
        "3. Rata-rata nilai mata kuliah Kalkulus 1 untuk semua mahasiswa\n",
        "4. Rata-rata nilai mata kuliah Metode Statistika untuk semua mahasiswa\n",
        "\n",
        "Dengan ketentuan gunakan variabel agar memudahkan dalam menampilkan hasil\n"
      ],
      "metadata": {
        "id": "fTnkjPo9lKJL"
      }
    },
    {
      "cell_type": "code",
      "source": [
        "#rata-rata nilai shafira pada kedua mata kuliah\n",
        "nilai_shafira = (85+75)/2\n",
        "print('Nilai Shafira :', nilai_shafira)\n",
        "\n",
        "#Jumlah nilai Hanif dan Andi untuk semua mata kuliah\n",
        "nilai_hanif = (75+90)\n",
        "nilai_andi = (70+75)\n",
        "jumlah_nilai_hanif_andi = nilai_hanif + nilai_andi\n",
        "print('Jumlah nilai Hanif dan Andi untuk semua mata kuliah :', jumlah_nilai_hanif_andi)\n",
        "\n",
        "#Rata-rata nilai Widya, Dhanar, Hikma dan Nedia pada masing-masing mata kuliah\n",
        "rata_rata_nilai_widya_dhanar_hikma_nedia_matkul_kalkulus =(85+85++80+90)/4\n",
        "print('Rata-rata nilai Widya, Dhanar, Hikma dan Nedia pada matkul kalkulus :',rata_rata_nilai_widya_dhanar_hikma_nedia_matkul_kalkulus )\n",
        "\n",
        "rata_rata_nilai_widya_dhanar_hikma_nedia_matkul_statistika =(85+85+75+80)/4\n",
        "print('Rata-rata nilai Widya, Dhanar, Hikma dan Nedia pada matkul statistika :',rata_rata_nilai_widya_dhanar_hikma_nedia_matkul_statistika )\n",
        "\n",
        "#Rata-rata nilai mata kuliah Kalkulus 1 untuk semua mahasiswa\n",
        "rata_rata_nilai_matkul_kalkulus_semua_mahasiswa =(85+80+75+95+85+75+70+85+80)/9\n",
        "print('Rata-rata nilai mata kuliah Kalkulus 1 untuk semua mahasiswa :',rata_rata_nilai_matkul_kalkulus_semua_mahasiswa)\n",
        "\n",
        "#Rata-rata nilai mata kuliah Metode Statistika untuk semua mahasiswa\n",
        "rata_rata_nilai_matkul_statistika_semua_mahasiswa =(75+90+80+80+85+90+75+85+75)\n",
        "print('Rata-rata nilai mata kuliah Metode Statistika untuk semua mahasiswa :',rata_rata_nilai_matkul_statistika_semua_mahasiswa)"
      ],
      "metadata": {
        "colab": {
          "base_uri": "https://localhost:8080/"
        },
        "id": "h113WzMJlQX6",
        "outputId": "d402e30d-33a3-4a95-e3d6-aae82770d629"
      },
      "execution_count": null,
      "outputs": [
        {
          "output_type": "stream",
          "name": "stdout",
          "text": [
            "Nilai Shafira : 80.0\n",
            "Jumlah nilai Hanif dan Andi untuk semua mata kuliah : 310\n",
            "Rata-rata nilai Widya, Dhanar, Hikma dan Nedia pada matkul kalkulus : 85.0\n",
            "Rata-rata nilai Widya, Dhanar, Hikma dan Nedia pada matkul statistika : 81.25\n",
            "Rata-rata nilai mata kuliah Kalkulus 1 untuk semua mahasiswa : 81.11111111111111\n",
            "Rata-rata nilai mata kuliah Metode Statistika untuk semua mahasiswa : 735\n"
          ]
        }
      ]
    },
    {
      "cell_type": "markdown",
      "source": [
        "## <h3 id=\"WeeklyExercise1\">Weekly Exercise 3</h3>\n",
        "\n",
        "\n",
        "\n",
        "Diketahui Dwi adalah seorang karyawan pabrik swasta yang telah bekerja selama 10 tahun. Setiap hari Dwi bekerja selama 8 jam. Prosedur penerimaan honor dari perusahaan ditentukan dengan cara jumlah jam masuk dikali dengan Rp 30.000,-.\n",
        "\n",
        "Buatlah sebuah program untuk menampilkan data berikut:\n",
        "1. Gaji pada bulan Agustus jika Dwi tidak masuk kerja selama 3 hari, berapa gaji yang diterima oleh Dwi.\n",
        "2. Apabila terdapat tunjangan bagi karyawan yang bekerja lebih dari 5 tahun sebesar 10% dari total gaji yang diterima setiap bulan, tentukan jumlah tunjangan yang diterima oleh Dwi pada bulan Agustus.\n",
        "3. Apabila pada bulan Agustus Dwi mendapatkan tugas lembur selama 5 jam, tentukan gaji total yang diterima oleh Dwi pada bulan Agustus. (upah lembur : Rp 10.000,- per jam)"
      ],
      "metadata": {
        "id": "XoP1iK5ow26K"
      }
    },
    {
      "cell_type": "code",
      "source": [
        "#1. Gaji pada bulan Agustus jika Dwi tidak masuk kerja selama 3 hari\n",
        "jam_kerja_perhari = 8\n",
        "gaji_perjam = 30000\n",
        "hari_agustus = 31\n",
        "tidak_masuk_kerja = 3\n",
        "\n",
        "hari_kerja_agustus = hari_agustus-tidak_masuk_kerja\n",
        "print('Jumlah hari kerja di bulan Agustus:',hari_kerja_agustus)\n",
        "\n",
        "total_jam_kerja = hari_kerja_agustus*jam_kerja_perhari\n",
        "print('Total jam kerja pada bulan Agustus:',total_jam_kerja)\n",
        "\n",
        "penghasilan_bulan_agustus = total_jam_kerja*gaji_perjam\n",
        "print('1. Gaji Dwi pada bulan Agustus:',penghasilan_bulan_agustus)\n",
        "\n",
        "#2. Tunjangan yang diterima oleh Dwi pada bulan Agustus\n",
        "tunjangan_karyawan = 10/100\n",
        "\n",
        "tunjangan_karyawan_agustus = tunjangan_karyawan*penghasilan_bulan_agustus\n",
        "print('2. Tunjangan yang diterima oleh Dwi pada bulan Agustus:',tunjangan_karyawan_agustus)\n",
        "\n",
        "#3. Total gaji Dwi di bulan Agustus dengan 5 jam lembur\n",
        "jam_lembur = 5\n",
        "upah_lembur_perjam = 10000\n",
        "\n",
        "total_upah_lembur = jam_lembur*upah_lembur_perjam\n",
        "print('Total upah lembur Dwi pada bilan Agustus:',total_upah_lembur)\n",
        "\n",
        "total_gaji_dwi = penghasilan_bulan_agustus+tunjangan_karyawan_agustus+total_upah_lembur\n",
        "print('3. Total gaji yang diterima oleh Dwi pada bulan Agustus:',total_gaji_dwi)"
      ],
      "metadata": {
        "colab": {
          "base_uri": "https://localhost:8080/"
        },
        "id": "cPj_ZWoGxKLG",
        "outputId": "6f118523-6a41-4725-a76e-3efd1ba4feb4"
      },
      "execution_count": null,
      "outputs": [
        {
          "output_type": "stream",
          "name": "stdout",
          "text": [
            "Jumlah hari kerja di bulan Agustus: 28\n",
            "Total jam kerja pada bulan Agustus: 224\n",
            "1. Gaji Dwi pada bulan Agustus: 6720000\n",
            "2. Tunjangan yang diterima oleh Dwi pada bulan Agustus: 672000.0\n",
            "Total upah lembur Dwi pada bilan Agustus: 50000\n",
            "3. Total gaji yang diterima oleh Dwi pada bulan Agustus: 7442000.0\n"
          ]
        }
      ]
    }
  ]
}