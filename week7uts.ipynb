{
  "nbformat": 4,
  "nbformat_minor": 0,
  "metadata": {
    "colab": {
      "provenance": [],
      "authorship_tag": "ABX9TyOnAYxFaXkiw7mS3mmJU4/+",
      "include_colab_link": true
    },
    "kernelspec": {
      "name": "python3",
      "display_name": "Python 3"
    },
    "language_info": {
      "name": "python"
    }
  },
  "cells": [
    {
      "cell_type": "markdown",
      "metadata": {
        "id": "view-in-github",
        "colab_type": "text"
      },
      "source": [
        "<a href=\"https://colab.research.google.com/github/Rino-AR/Praktikum-Algoritma-Pemrograman/blob/main/week7uts.ipynb\" target=\"_parent\"><img src=\"https://colab.research.google.com/assets/colab-badge.svg\" alt=\"Open In Colab\"/></a>"
      ]
    },
    {
      "cell_type": "code",
      "execution_count": null,
      "metadata": {
        "colab": {
          "base_uri": "https://localhost:8080/"
        },
        "id": "CttSZaVzUgJO",
        "outputId": "1c8e3e48-9644-4f94-883d-b6ebecd0e428"
      },
      "outputs": [
        {
          "output_type": "stream",
          "name": "stdout",
          "text": [
            "Masukkan Besar Segitiga = 10\n",
            "1 \n",
            "2 4 \n",
            "3 6 9 \n",
            "4 8 12 16 \n",
            "5 10 15 20 25 \n",
            "6 12 18 24 30 36 \n",
            "7 14 21 28 35 42 49 \n",
            "8 16 24 32 40 48 56 64 \n",
            "9 18 27 36 45 54 63 72 81 \n",
            "10 20 30 40 50 60 70 80 90 100 \n"
          ]
        }
      ],
      "source": [
        "besar = int(input(\"Masukkan Besar Segitiga = \"))\n",
        "\n",
        "for i in range(1, besar + 1):\n",
        "  for j in range(1, i + 1):\n",
        "    print(i*j,end=\" \")\n",
        "  print()"
      ]
    },
    {
      "cell_type": "code",
      "source": [
        "# NPM = 2440506061\n",
        "NPM = input(\"Masukkan NPM:\")\n",
        "\n",
        "jumlah_genap = 0\n",
        "jumlah_ganjil = 0\n",
        "\n",
        "for digit in NPM:\n",
        "\n",
        "    if int(digit) % 2 == 0:\n",
        "        jumlah_genap += 1\n",
        "    else:\n",
        "        jumlah_ganjil += 1\n",
        "\n",
        "print(\"Jumlah angka genap:\", jumlah_genap)\n",
        "print(\"Jumlah angka ganjil:\",jumlah_ganjil)\n"
      ],
      "metadata": {
        "colab": {
          "base_uri": "https://localhost:8080/"
        },
        "id": "ttFLTYxuH715",
        "outputId": "476153fa-e385-48a8-89b2-002a32453ab6"
      },
      "execution_count": 1,
      "outputs": [
        {
          "output_type": "stream",
          "name": "stdout",
          "text": [
            "Masukkan NPM:2440506061\n",
            "Jumlah angka genap: 8\n",
            "Jumlah angka ganjil: 2\n"
          ]
        }
      ]
    }
  ]
}